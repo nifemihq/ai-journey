{
 "cells": [
  {
   "cell_type": "markdown",
   "id": "d5df7479",
   "metadata": {},
   "source": [
    "### Challenge: *Email Sign-Up Cleanup*\n",
    "\n",
    "You’re working on a system to clean and extract useful data from raw newsletter sign-up entries. Each entry is a poorly formatted string with name, email, interest(s), and date — separated by `#|#`. Interests can be multiple, joined by `&`.\n",
    "\n",
    "---\n",
    "\n",
    "#### 📝 **Task**\n",
    "\n",
    "**Given:**\n",
    "\n",
    "```python\n",
    "signup_data = \"  janet adebayo #|#   janet123@email.com #|# fiction&self-help #|# 12/07/25, OBINNA CHUKWU#|#obinna@email.com#|# non-fiction #|#12/07/25 ,   mary james #|# mary.j@email.com #|# fantasy&sci-fi #|# 12/07/25 , chioma nwafor #|# chioma@books.com #|# fiction&fantasy #|#12/07/25  \"\n",
    "```\n",
    "\n",
    "---\n",
    "\n",
    "#### **Tasks**\n",
    "\n",
    "1. **Clean and Structure the Data**\n",
    "\n",
    "   * Replace `#|#` with a pipe (`|`)\n",
    "   * Split entries by commas\n",
    "   * Split each entry into a list: `[name, email, interest(s), date]`\n",
    "   * Strip whitespace from each field\n",
    "\n",
    "2. **Standardize Formats**\n",
    "\n",
    "   * Convert name to **title case**\n",
    "   * Convert email to **lowercase**\n",
    "   * Convert interest(s) to **lowercase**\n",
    "   * Leave the date as-is\n",
    "\n",
    "3. **Split and Flatten Interests**\n",
    "\n",
    "   * If multiple interests are joined by `&`, split them into individual items\n",
    "   * Build a flat list of all interests\n",
    "\n",
    "4. **Count How Many People Are Interested in Each Genre**\n",
    "\n",
    "   * Count how many times each of the following appears:\n",
    "\n",
    "     * fiction\n",
    "     * non-fiction\n",
    "     * fantasy\n",
    "     * sci-fi\n",
    "     * self-help"
   ]
  },
  {
   "cell_type": "code",
   "execution_count": 32,
   "id": "1ab479dc",
   "metadata": {},
   "outputs": [
    {
     "name": "stdout",
     "output_type": "stream",
     "text": [
      "['  janet adebayo |   janet123@email.com | fiction&self-help | 12/07/25', ' OBINNA CHUKWU|obinna@email.com| non-fiction |12/07/25 ', '   mary james | mary.j@email.com | fantasy&sci-fi | 12/07/25 ', ' chioma nwafor | chioma@books.com | fiction&fantasy |12/07/25  ']\n"
     ]
    }
   ],
   "source": [
    "signup_data = \"  janet adebayo #|#   janet123@email.com #|# fiction&self-help #|# 12/07/25, OBINNA CHUKWU#|#obinna@email.com#|# non-fiction #|#12/07/25 ,   mary james #|# mary.j@email.com #|# fantasy&sci-fi #|# 12/07/25 , chioma nwafor #|# chioma@books.com #|# fiction&fantasy #|#12/07/25  \"\n",
    "\n",
    "signup_data = signup_data.replace('#|#', '|').split(',')\n",
    "print(signup_data)"
   ]
  },
  {
   "cell_type": "code",
   "execution_count": 33,
   "id": "e13af1cb",
   "metadata": {},
   "outputs": [
    {
     "name": "stdout",
     "output_type": "stream",
     "text": [
      "[['  janet adebayo ', '   janet123@email.com ', ' fiction&self-help ', ' 12/07/25'], [' OBINNA CHUKWU', 'obinna@email.com', ' non-fiction ', '12/07/25 '], ['   mary james ', ' mary.j@email.com ', ' fantasy&sci-fi ', ' 12/07/25 '], [' chioma nwafor ', ' chioma@books.com ', ' fiction&fantasy ', '12/07/25  ']]\n"
     ]
    }
   ],
   "source": [
    "signup_data = [i.split('|') for i in signup_data]\n",
    "print(signup_data)"
   ]
  },
  {
   "cell_type": "code",
   "execution_count": 34,
   "id": "0d49bb1c",
   "metadata": {},
   "outputs": [
    {
     "name": "stdout",
     "output_type": "stream",
     "text": [
      "[['janet adebayo', 'janet123@email.com', 'fiction&self-help', '12/07/25'], ['OBINNA CHUKWU', 'obinna@email.com', 'non-fiction', '12/07/25'], ['mary james', 'mary.j@email.com', 'fantasy&sci-fi', '12/07/25'], ['chioma nwafor', 'chioma@books.com', 'fiction&fantasy', '12/07/25']]\n",
      "[['Janet Adebayo', 'janet123@email.com', 'fiction&self-help', '12/07/25'], ['Obinna Chukwu', 'obinna@email.com', 'non-fiction', '12/07/25'], ['Mary James', 'mary.j@email.com', 'fantasy&sci-fi', '12/07/25'], ['Chioma Nwafor', 'chioma@books.com', 'fiction&fantasy', '12/07/25']]\n"
     ]
    }
   ],
   "source": [
    "signup_data = [[x.strip() for x in i] for i in signup_data]\n",
    "print(signup_data)\n",
    "signup_data = [[x.title() if x == i[0] else x.lower() if x == i[0] or x == i[1] else x for x in i] for i in signup_data]\n",
    "print(signup_data)"
   ]
  },
  {
   "cell_type": "code",
   "execution_count": 35,
   "id": "639f5219",
   "metadata": {},
   "outputs": [
    {
     "name": "stdout",
     "output_type": "stream",
     "text": [
      "[['fiction', 'self-help'], ['non-fiction'], ['fantasy', 'sci-fi'], ['fiction', 'fantasy']]\n",
      "['fiction', 'self-help', 'non-fiction', 'fantasy', 'sci-fi', 'fiction', 'fantasy']\n"
     ]
    }
   ],
   "source": [
    "interests = [i[2].split('&') for i in signup_data]\n",
    "print(interests)\n",
    "interests = [x for i in interests for x in i]\n",
    "print(interests)"
   ]
  }
 ],
 "metadata": {
  "kernelspec": {
   "display_name": "Python 3",
   "language": "python",
   "name": "python3"
  },
  "language_info": {
   "codemirror_mode": {
    "name": "ipython",
    "version": 3
   },
   "file_extension": ".py",
   "mimetype": "text/x-python",
   "name": "python",
   "nbconvert_exporter": "python",
   "pygments_lexer": "ipython3",
   "version": "3.13.6"
  }
 },
 "nbformat": 4,
 "nbformat_minor": 5
}
