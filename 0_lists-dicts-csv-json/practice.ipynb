{
 "cells": [
  {
   "cell_type": "code",
   "execution_count": 101,
   "id": "dc421bb7",
   "metadata": {},
   "outputs": [
    {
     "name": "stdout",
     "output_type": "stream",
     "text": [
      "[6, 14, 4, 18, 8]\n"
     ]
    }
   ],
   "source": [
    "#1. Given nums = [3, 7, 2, 9, 4], write a function that returns a new list with each number doubled.\n",
    "\n",
    "nums = [3, 7, 2, 9, 4]\n",
    "nums_doubled = [x*2 for x in nums]\n",
    "print(nums_doubled)"
   ]
  },
  {
   "cell_type": "code",
   "execution_count": 102,
   "id": "4adf22eb",
   "metadata": {},
   "outputs": [
    {
     "name": "stdout",
     "output_type": "stream",
     "text": [
      "[12, 20, 15]\n"
     ]
    }
   ],
   "source": [
    "#2. From nums = [5, 12, 7, 20, 15, 3], return a list of only the numbers greater than 10.\n",
    "\n",
    "nums = [5, 12, 7, 20, 15, 3]\n",
    "nums_grt_10 = [x for x in nums if x > 10]\n",
    "print(nums_grt_10)"
   ]
  },
  {
   "cell_type": "code",
   "execution_count": 103,
   "id": "5c80c451",
   "metadata": {},
   "outputs": [
    {
     "name": "stdout",
     "output_type": "stream",
     "text": [
      "[6, 5, 4, 3, 2, 1]\n"
     ]
    }
   ],
   "source": [
    "#3. Write a loop to reverse a list without using .reverse() or slicing [::-1].\n",
    "\n",
    "nums = [1, 2, 3, 4, 5, 6]\n",
    "nums = [nums.pop() for i in range(len(nums))]\n",
    "print(nums)"
   ]
  },
  {
   "cell_type": "code",
   "execution_count": 104,
   "id": "0fa63e1a",
   "metadata": {},
   "outputs": [
    {
     "name": "stdout",
     "output_type": "stream",
     "text": [
      "{'name': 'Oluwanifemi', 'age': 25, 'city': 'Lagos'}\n"
     ]
    }
   ],
   "source": [
    "#4. Create a dictionary from two lists:\n",
    "\n",
    "keys = [\"name\", \"age\", \"city\"]\n",
    "values = [\"Oluwanifemi\", 25, \"Lagos\"]\n",
    "\n",
    "dict = {k:v for k,v in list(zip(keys, values))}\n",
    "print(dict)"
   ]
  },
  {
   "cell_type": "code",
   "execution_count": 105,
   "id": "6b62ee74",
   "metadata": {},
   "outputs": [
    {
     "name": "stdout",
     "output_type": "stream",
     "text": [
      "90\n"
     ]
    }
   ],
   "source": [
    "#5. Write code to find the student with the highest score.\n",
    "\n",
    "students = {\n",
    "    \"Alice\": 85,\n",
    "    \"Bob\": 72,\n",
    "    \"Charlie\": 90\n",
    "}\n",
    "\n",
    "print(max(students.values()))"
   ]
  },
  {
   "cell_type": "code",
   "execution_count": 106,
   "id": "65f257a9",
   "metadata": {},
   "outputs": [
    {
     "name": "stdout",
     "output_type": "stream",
     "text": [
      " Hello, Python! \n",
      "Hello, Python!\n",
      "Hello, Python!\n"
     ]
    }
   ],
   "source": [
    "#6. From s = \" Hello, Python! \", remove extra spaces at both ends.\n",
    "\n",
    "s = \" Hello, Python! \"\n",
    "print(s)\n",
    "s = \"Hello, Python!\"\n",
    "print(s)\n",
    "s = \" Hello, Python! \"\n",
    "print(s.strip())"
   ]
  },
  {
   "cell_type": "code",
   "execution_count": 107,
   "id": "e884e2ac",
   "metadata": {},
   "outputs": [
    {
     "name": "stdout",
     "output_type": "stream",
     "text": [
      "Python_is_fun\n"
     ]
    }
   ],
   "source": [
    "#7. Replace all spaces in \"Python is fun\" with underscores.\n",
    "\n",
    "print('Python is fun'.replace(' ', '_'))"
   ]
  },
  {
   "cell_type": "code",
   "execution_count": 108,
   "id": "0ad3cfe0",
   "metadata": {},
   "outputs": [
    {
     "name": "stdout",
     "output_type": "stream",
     "text": [
      "['test@example.com', 'admin@site.com']\n"
     ]
    }
   ],
   "source": [
    "#8. Given text = \"Email me at test@example.com or admin@site.com\", extract all the email addresses into a list.\n",
    "\n",
    "text = \"Email me at test@example.com or admin@site.com\"\n",
    "emails = [x for x in text.split() if '@' in x]\n",
    "print(emails)"
   ]
  },
  {
   "cell_type": "code",
   "execution_count": 109,
   "id": "af607dac",
   "metadata": {},
   "outputs": [
    {
     "name": "stdout",
     "output_type": "stream",
     "text": [
      "['This', 'Sentence']\n"
     ]
    }
   ],
   "source": [
    "#9. From sentence = \"This is a test sentence\", return a list of words in uppercase.\n",
    "\n",
    "sentence = \"This is a test Sentence\"\n",
    "sentence = sentence.split()\n",
    "print([x for x in sentence if x[0] == x[0].upper()])"
   ]
  },
  {
   "cell_type": "code",
   "execution_count": 110,
   "id": "6e0be0ea",
   "metadata": {},
   "outputs": [
    {
     "name": "stdout",
     "output_type": "stream",
     "text": [
      "Split -> ['apple', 'banana', 'orange']\n",
      "apple | banana | orange\n"
     ]
    }
   ],
   "source": [
    "#10. Split \"apple,banana,orange\" into a list, then join it back with \" | \" as a separator.\n",
    "text = \"apple,banana,orange\"\n",
    "split = text.split(',')\n",
    "print(f'Split -> {split}')\n",
    "print(' | '.join(split))"
   ]
  },
  {
   "cell_type": "code",
   "execution_count": 111,
   "id": "48a7f114",
   "metadata": {},
   "outputs": [
    {
     "name": "stdout",
     "output_type": "stream",
     "text": [
      "['Theeeeeeeeeeeeeeeeeeeeeeeeeeeeeeeeeeeee', 'quick', 'brown', 'fox', 'jumpssssssssssssssss']\n",
      "39\n"
     ]
    }
   ],
   "source": [
    "#11 Given \"The quick brown fox jumps\", split into words and return the longest word.\n",
    "\n",
    "sentence = \"Theeeeeeeeeeeeeeeeeeeeeeeeeeeeeeeeeeeee quick brown fox jumpssssssssssssssss\"\n",
    "ssplit = sentence.split()\n",
    "print(ssplit)\n",
    "max_len = 0\n",
    "\n",
    "for i in ssplit:\n",
    "      if len(i) > max_len:\n",
    "            max_len = len(i)\n",
    "print(max_len)"
   ]
  },
  {
   "cell_type": "code",
   "execution_count": 112,
   "id": "f0baef7f",
   "metadata": {},
   "outputs": [
    {
     "name": "stdout",
     "output_type": "stream",
     "text": [
      "{'Anna': 88, 'Ben': 92, 'Charlie': 79}\n"
     ]
    }
   ],
   "source": [
    "#12.\n",
    "#  names = [\"Anna\", \"Ben\", \"Charlie\"]\n",
    "# scores = [88, 92, 79]\n",
    "# Create a dictionary pairing names with scores using zip().\n",
    "\n",
    "names = [\"Anna\", \"Ben\", \"Charlie\"]\n",
    "scores = [88, 92, 79]\n",
    "\n",
    "dict = {a:b for a,b in list(zip(names, scores))}\n",
    "print(dict)"
   ]
  },
  {
   "cell_type": "code",
   "execution_count": 113,
   "id": "2f81ee6d",
   "metadata": {},
   "outputs": [
    {
     "name": "stdout",
     "output_type": "stream",
     "text": [
      "1 * 1 = 1\n",
      "1 * 2 = 2\n",
      "1 * 3 = 3\n",
      "1 * 4 = 4\n",
      "1 * 5 = 5\n",
      "1 * 6 = 6\n",
      "1 * 7 = 7\n",
      "1 * 8 = 8\n",
      "1 * 9 = 9\n",
      "1 * 10 = 10\n",
      "1 * 11 = 11\n",
      "1 * 12 = 12\n",
      "\n",
      "2 * 1 = 2\n",
      "2 * 2 = 4\n",
      "2 * 3 = 6\n",
      "2 * 4 = 8\n",
      "2 * 5 = 10\n",
      "2 * 6 = 12\n",
      "2 * 7 = 14\n",
      "2 * 8 = 16\n",
      "2 * 9 = 18\n",
      "2 * 10 = 20\n",
      "2 * 11 = 22\n",
      "2 * 12 = 24\n",
      "\n",
      "3 * 1 = 3\n",
      "3 * 2 = 6\n",
      "3 * 3 = 9\n",
      "3 * 4 = 12\n",
      "3 * 5 = 15\n",
      "3 * 6 = 18\n",
      "3 * 7 = 21\n",
      "3 * 8 = 24\n",
      "3 * 9 = 27\n",
      "3 * 10 = 30\n",
      "3 * 11 = 33\n",
      "3 * 12 = 36\n",
      "\n",
      "4 * 1 = 4\n",
      "4 * 2 = 8\n",
      "4 * 3 = 12\n",
      "4 * 4 = 16\n",
      "4 * 5 = 20\n",
      "4 * 6 = 24\n",
      "4 * 7 = 28\n",
      "4 * 8 = 32\n",
      "4 * 9 = 36\n",
      "4 * 10 = 40\n",
      "4 * 11 = 44\n",
      "4 * 12 = 48\n",
      "\n",
      "5 * 1 = 5\n",
      "5 * 2 = 10\n",
      "5 * 3 = 15\n",
      "5 * 4 = 20\n",
      "5 * 5 = 25\n",
      "5 * 6 = 30\n",
      "5 * 7 = 35\n",
      "5 * 8 = 40\n",
      "5 * 9 = 45\n",
      "5 * 10 = 50\n",
      "5 * 11 = 55\n",
      "5 * 12 = 60\n",
      "\n"
     ]
    }
   ],
   "source": [
    "#13. Write a nested loop to print the multiplication table (1–5).\n",
    "\n",
    "for i in range(1, 6):\n",
    "      for x in range(1, 13):\n",
    "            print(f'{i} * {x} = {i*x}')\n",
    "      print('')"
   ]
  },
  {
   "cell_type": "code",
   "execution_count": 114,
   "id": "648e5b30",
   "metadata": {},
   "outputs": [
    {
     "name": "stdout",
     "output_type": "stream",
     "text": [
      "[0, 2, 4, 6, 8, 10, 12, 14, 16, 18, 20]\n"
     ]
    }
   ],
   "source": [
    "#14. Using list comprehension, create a list of all even numbers from 0 to 20.\n",
    "\n",
    "numbers = [x for x in range(0, 21) if x%2 == 0]\n",
    "print(numbers)"
   ]
  },
  {
   "cell_type": "code",
   "execution_count": 115,
   "id": "0d2e4682",
   "metadata": {},
   "outputs": [
    {
     "name": "stdout",
     "output_type": "stream",
     "text": [
      "['apple', 'banana', 'cherry']\n"
     ]
    }
   ],
   "source": [
    "#15. Clean the following list so it has no leading/trailing spaces, no duplicates, and all values are lowercase:\n",
    "\n",
    "fruits = [\" Apple \", \"banana\", \"APPLE\", \"Banana  \", \"cherry \"]\n",
    "strip = [x.strip().lower() for x in fruits]\n",
    "# print(strip)\n",
    "\n",
    "clean = []\n",
    "for i in strip:\n",
    "      if i not in clean:\n",
    "            clean.append(i)\n",
    "print(clean)"
   ]
  },
  {
   "cell_type": "code",
   "execution_count": 116,
   "id": "4341e38b",
   "metadata": {},
   "outputs": [
    {
     "name": "stdout",
     "output_type": "stream",
     "text": [
      "{'John': ' Lagos', 'Mary': ' Abuja', 'Tunde': ' Ibadan'}\n"
     ]
    }
   ],
   "source": [
    "#16. Create a dictionary where each name maps to their city.\n",
    "\n",
    "data = [\n",
    "    \"John, 25, Lagos\",\n",
    "    \"Mary, 30, Abuja\",\n",
    "    \"Tunde, 22, Ibadan\"\n",
    "]\n",
    "\n",
    "splitted = [x.split(',') for x in data]\n",
    "# print(splitted)\n",
    "\n",
    "names = [i[0] for i in splitted]\n",
    "city = [i[2] for i in splitted]\n",
    "\n",
    "dictionary = {a:b for a,b in list(zip(names, city))}\n",
    "print(dictionary)"
   ]
  },
  {
   "cell_type": "code",
   "execution_count": 117,
   "id": "f15fef19",
   "metadata": {},
   "outputs": [
    {
     "name": "stdout",
     "output_type": "stream",
     "text": [
      "[('Laptop', 1200), ('Phone', 800), ('Tablet', 300)]\n",
      "['Laptop - $1200', 'Phone - $800', 'Tablet - $300']\n"
     ]
    }
   ],
   "source": [
    "# 17. Create a list of strings in the format: \"Laptop - $1200\" using zip().\n",
    "\n",
    "products = [\"Laptop\", \"Phone\", \"Tablet\"]\n",
    "prices = [1200, 800, 300]\n",
    "\n",
    "combined = list(zip(products, prices))\n",
    "print(combined)\n",
    "\n",
    "lst = [f'{x} - ${y}' for x,y in combined]\n",
    "print(lst)"
   ]
  },
  {
   "cell_type": "code",
   "execution_count": 118,
   "id": "063548f1",
   "metadata": {},
   "outputs": [
    {
     "name": "stdout",
     "output_type": "stream",
     "text": [
      "['red', 'blue', 'red', 'green', 'blue', 'yellow']\n",
      "[2, 2, 1, 1]\n",
      "{'red': 2, 'blue': 2, 'green': 1, 'yellow': 1}\n"
     ]
    }
   ],
   "source": [
    "#18. Given a string of words \"red blue red green blue yellow\", count the occurrences of each word and store in a dictionary.\n",
    "\n",
    "text = \"red blue red green blue yellow\"\n",
    "text = text.split()\n",
    "print(text)\n",
    "\n",
    "colors = ['red', 'blue', 'green', 'yellow']\n",
    "\n",
    "red = 0\n",
    "blue = 0\n",
    "green = 0\n",
    "yellow = 0\n",
    "\n",
    "for i in text:\n",
    "      if i == 'red':\n",
    "            red += 1\n",
    "      if i == 'blue':\n",
    "            blue += 1\n",
    "      if i == 'green':\n",
    "            green += 1\n",
    "      elif i == 'yellow':\n",
    "            yellow += 1\n",
    "\n",
    "color_counts = [x for x in [red, blue, green, yellow]]\n",
    "print(color_counts)\n",
    "\n",
    "dict = {a:b for a,b in list(zip(colors, color_counts))}\n",
    "print(dict)"
   ]
  },
  {
   "cell_type": "code",
   "execution_count": 132,
   "id": "b83621b9",
   "metadata": {},
   "outputs": [
    {
     "name": "stdout",
     "output_type": "stream",
     "text": [
      "yM god si a .DSG \n"
     ]
    }
   ],
   "source": [
    "#19. Write a function that takes a sentence and returns it with each word reversed but the word order intact.\n",
    "sentence = 'My dog is a GSD.'\n",
    "\n",
    "def reverse_words(a_sentence):\n",
    "      reversed_sentence = ''\n",
    "      split_sentence = a_sentence.split(' ')\n",
    "      \n",
    "      for i in split_sentence:\n",
    "            i = i[::-1]\n",
    "            reversed_sentence += f'{i} '\n",
    "      return reversed_sentence\n",
    "      \n",
    "print(reverse_words(sentence))"
   ]
  },
  {
   "cell_type": "code",
   "execution_count": 135,
   "id": "21425c3c",
   "metadata": {},
   "outputs": [
    {
     "name": "stdout",
     "output_type": "stream",
     "text": [
      "['PYTHON', 'JAVA', 'C++']\n"
     ]
    }
   ],
   "source": [
    "#20. Clean it (strip spaces/tabs), make all uppercase, and store in a list.\n",
    "\n",
    "raw_data = [\"  Python  \", \"\\tJava\\t\", \" C++ \"]\n",
    "raw_data = [x.upper().strip() for x in raw_data]\n",
    "\n",
    "print(raw_data)"
   ]
  },
  {
   "cell_type": "code",
   "execution_count": 146,
   "id": "08682884",
   "metadata": {},
   "outputs": [
    {
     "name": "stdout",
     "output_type": "stream",
     "text": [
      "apple|banana|mango|orange\n"
     ]
    }
   ],
   "source": [
    "s = \"apple, banana, mango ,orange\"\n",
    "s = [i.strip() for i in s.split(',')]\n",
    "print('|'.join(s))"
   ]
  },
  {
   "cell_type": "code",
   "execution_count": 164,
   "id": "2ffb0db3",
   "metadata": {},
   "outputs": [
    {
     "name": "stdout",
     "output_type": "stream",
     "text": [
      "Ada\n",
      "['x', 'y', 'z']\n"
     ]
    }
   ],
   "source": [
    "# A one-liner to get the name of the top scorer using max(..., key=...).\n",
    "# A one-liner to remove duplicates from names but keep the order using dict.fromkeys(...).\n",
    "\n",
    "records = [\n",
    "    {\"name\": \"Ada\", \"score\": 91},\n",
    "    {\"name\": \"Ben\", \"score\": 86},\n",
    "    {\"name\": \"Chi\", \"score\": 9}\n",
    "]\n",
    "names = [\"x\", \"y\", \"x\", \"z\", \"y\", \"x\"]\n",
    "\n",
    "print(max(records, key=lambda j: j['score'])['name'])\n",
    "print(list(dict.fromkeys(names)))"
   ]
  },
  {
   "cell_type": "code",
   "execution_count": 187,
   "id": "7326f3a2",
   "metadata": {},
   "outputs": [
    {
     "name": "stdout",
     "output_type": "stream",
     "text": [
      "Chi\n",
      "['Ada', 'Ben', 'Chi']\n"
     ]
    }
   ],
   "source": [
    "people = [\n",
    "    {\"name\": \"Ada\", \"age\": 30},\n",
    "    {\"name\": \"Ben\", \"age\": 42},\n",
    "    {\"name\": \"Chi\", \"age\": 25}\n",
    "]\n",
    "\n",
    "# Get the name of the youngest person using min(..., key=...).\n",
    "# Get a list of all names from people with duplicates removed but in the same order.\n",
    "\n",
    "print(min(people, key=lambda k:k['age'])['name'])\n",
    "names = [people[i]['name'] for i in range(len(people))]\n",
    "print(names)"
   ]
  },
  {
   "cell_type": "code",
   "execution_count": 191,
   "id": "8474d530",
   "metadata": {},
   "outputs": [
    {
     "name": "stdout",
     "output_type": "stream",
     "text": [
      "Elephant\n"
     ]
    }
   ],
   "source": [
    "# Write a one-liner to get the name of the heaviest animal using max(..., key=...).\n",
    "\n",
    "animals = [\n",
    "    {\"name\": \"Elephant\", \"weight\": 5000},\n",
    "    {\"name\": \"Dog\", \"weight\": 40},\n",
    "    {\"name\": \"Cat\", \"weight\": 10}\n",
    "]\n",
    "\n",
    "print(max(animals, key=lambda k:k['weight'])['name'])"
   ]
  },
  {
   "cell_type": "code",
   "execution_count": 193,
   "id": "615d5606",
   "metadata": {},
   "outputs": [
    {
     "name": "stdout",
     "output_type": "stream",
     "text": [
      "['red', 'blue', 'green', 'yellow']\n"
     ]
    }
   ],
   "source": [
    "# Write a one-liner to get a list of unique colors in the order they appear, using dict.fromkeys(...).\n",
    "\n",
    "colors = [\"red\", \"blue\", \"red\", \"green\", \"blue\", \"yellow\", \"green\"]\n",
    "print(list(dict.fromkeys(colors)))"
   ]
  },
  {
   "cell_type": "code",
   "execution_count": 202,
   "id": "0076b63c",
   "metadata": {},
   "outputs": [
    {
     "name": "stdout",
     "output_type": "stream",
     "text": [
      "[450, 200, 200, 150]\n"
     ]
    }
   ],
   "source": [
    "# Write a one-liner to get a list of unique page counts in the order they appear, starting from the book with the most pages going down.\n",
    "\n",
    "books = [\n",
    "    {\"title\": \"Book A\", \"pages\": 200},\n",
    "    {\"title\": \"Book B\", \"pages\": 150},\n",
    "    {\"title\": \"Book C\", \"pages\": 450},\n",
    "    {\"title\": \"Book D\", \"pages\": 200}\n",
    "]\n",
    "\n",
    "ol = [i['pages'] for i in books]\n",
    "print(sorted(ol, reverse = True))"
   ]
  },
  {
   "cell_type": "code",
   "execution_count": null,
   "id": "d8673191",
   "metadata": {},
   "outputs": [
    {
     "name": "stdout",
     "output_type": "stream",
     "text": [
      "[1, 2, 7, 9]\n",
      "['apple', 'Apricot', 'Banana', 'cherry']\n",
      "['awesome', 'python', 'fun', 'is']\n"
     ]
    }
   ],
   "source": [
    "nums = [7, 2, 9, 1]\n",
    "print(sorted(nums))\n",
    "\n",
    "names = [\"apple\", \"Banana\", \"cherry\", \"Apricot\"]\n",
    "print(sorted(names, key=str.lower))\n",
    "\n",
    "words = [\"python\", \"is\", \"awesome\", \"fun\"]\n",
    "newlst = sorted(words, key=len, reverse=True)\n",
    "print(newlst)\n",
    "\n"
   ]
  },
  {
   "cell_type": "code",
   "execution_count": 217,
   "id": "5320117d",
   "metadata": {},
   "outputs": [
    {
     "name": "stdout",
     "output_type": "stream",
     "text": [
      "[{\"interesting message\": \"What is JSON? A web application's little pile of secrets.\", \"follow up\": \"But enough talk!\"}]\n"
     ]
    }
   ],
   "source": [
    "data_payload = [\n",
    "  {'interesting message': 'What is JSON? A web application\\'s little pile of secrets.',\n",
    "   'follow up': 'But enough talk!'}\n",
    "]\n",
    "\n",
    "import json\n",
    "\n",
    "with open('data.json', 'w') as data_json:\n",
    "  json.dump(data_payload, data_json)\n",
    "\n",
    "with open('data.json') as dddd:\n",
    "  print(dddd.read())"
   ]
  },
  {
   "cell_type": "code",
   "execution_count": 1,
   "id": "77b9c5ed",
   "metadata": {},
   "outputs": [
    {
     "name": "stdout",
     "output_type": "stream",
     "text": [
      "{'Chi', 'Ben', 'Ada'}\n",
      "['Chi', 'Ben', 'Ada']\n"
     ]
    }
   ],
   "source": [
    "names = [\"Ada\", \"Ben\", \"Ada\", \"Chi\"]\n",
    "unique_names = set(names)\n",
    "print(unique_names)  # {'Ben', 'Ada', 'Chi'}\n",
    "print(list(unique_names))"
   ]
  }
 ],
 "metadata": {
  "kernelspec": {
   "display_name": "Python 3",
   "language": "python",
   "name": "python3"
  },
  "language_info": {
   "codemirror_mode": {
    "name": "ipython",
    "version": 3
   },
   "file_extension": ".py",
   "mimetype": "text/x-python",
   "name": "python",
   "nbconvert_exporter": "python",
   "pygments_lexer": "ipython3",
   "version": "3.13.6"
  }
 },
 "nbformat": 4,
 "nbformat_minor": 5
}
