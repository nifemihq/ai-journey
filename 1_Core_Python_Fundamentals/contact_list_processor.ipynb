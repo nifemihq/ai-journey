{
 "cells": [
  {
   "cell_type": "code",
   "execution_count": null,
   "id": "3b8281a7",
   "metadata": {},
   "outputs": [
    {
     "name": "stdout",
     "output_type": "stream",
     "text": [
      "\n",
      "Full List: \n",
      "['Alice , ALICE@example.com', 'Bob,bob@example.com', 'Eve, eve@example.com', 'Mallory, mallory@Example.com', 'Trent, trent@example.com', 'bob,Bob@example.com', 'Carla,carla@example.com', 'Mallory, MALLORY@example.com', 'Oscar, oscar@example.com']\n",
      "\n",
      "{'sort_by': 'name', 'unique': True, 'case_sensitive': False, 'reverse': False}\n",
      "\n",
      "Full List: \n",
      "[['Alice ', ' ALICE@example.com'], ['Bob', 'bob@example.com'], ['Eve', ' eve@example.com'], ['Mallory', ' mallory@Example.com'], ['Trent', ' trent@example.com'], ['bob', 'Bob@example.com'], ['Carla', 'carla@example.com'], ['Mallory', ' MALLORY@example.com'], ['Oscar', ' oscar@example.com']]\n",
      "\n",
      "\n",
      "Full List: \n",
      "[['Alice ', ' ALICE@example.com'], ['Bob', 'bob@example.com'], ['Eve', ' eve@example.com'], ['Mallory', ' mallory@Example.com'], ['Trent', ' trent@example.com'], ['bob', 'Bob@example.com'], ['Carla', 'carla@example.com'], ['Mallory', ' MALLORY@example.com'], ['Oscar', ' oscar@example.com']]\n",
      "\n"
     ]
    }
   ],
   "source": [
    "contacts_a = [\n",
    "    \" Alice , ALICE@example.com \",\n",
    "    \"Bob,bob@example.com\",\n",
    "    \"Eve, eve@example.com\",\n",
    "    \"  Mallory, mallory@Example.com  \",\n",
    "    \"Trent, trent@example.com\",\n",
    "    None,\n",
    "    \"\"\n",
    "]\n",
    "\n",
    "contacts_b = [\n",
    "    \"bob,Bob@example.com\",\n",
    "    \"Carla,carla@example.com\",\n",
    "    \"Mallory, MALLORY@example.com\",\n",
    "    \"Oscar, oscar@example.com\",\n",
    "    \"  \", \n",
    "    None\n",
    "]\n",
    "\n",
    "def processed_contacts(*contact_lists, **options):\n",
    "      full_list = []\n",
    "      for item in contact_lists:\n",
    "            full_list.extend(item)\n",
    "      full_list = [item.strip() for item in full_list if item]\n",
    "      full_list = [item for item in full_list if item]\n",
    "      print(f'''\n",
    "Full List: \n",
    "{full_list}\n",
    "''')\n",
    "      print(options)\n",
    "      \n",
    "      full_list = [item.split(',') for item in full_list]\n",
    "      print(f'''\n",
    "Full List: \n",
    "{full_list}\n",
    "''')\n",
    "      \n",
    "      full_list = [x.strip() for x in item for item in full_list]\n",
    "      print(f'''\n",
    "Full List: \n",
    "{full_list}\n",
    "''')\n",
    "\n",
    "processed_contacts(contacts_a, contacts_b, sort_by='name', unique=True, case_sensitive=False, reverse=False)"
   ]
  }
 ],
 "metadata": {
  "kernelspec": {
   "display_name": "Python 3",
   "language": "python",
   "name": "python3"
  },
  "language_info": {
   "codemirror_mode": {
    "name": "ipython",
    "version": 3
   },
   "file_extension": ".py",
   "mimetype": "text/x-python",
   "name": "python",
   "nbconvert_exporter": "python",
   "pygments_lexer": "ipython3",
   "version": "3.13.6"
  }
 },
 "nbformat": 4,
 "nbformat_minor": 5
}
