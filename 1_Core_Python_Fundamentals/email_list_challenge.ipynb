{
 "cells": [
  {
   "cell_type": "markdown",
   "id": "3e3137d4",
   "metadata": {},
   "source": [
    "## **Challenge — Master Email Processor**\n",
    "\n",
    "### **Function name**\n",
    "\n",
    "`process_emails(*args, unique=True, sort=False, case_sensitive=False)`\n",
    "\n",
    "---\n",
    "\n",
    "### **Parameters**\n",
    "\n",
    "1. `*args` → unlimited **lists of emails** (you’ll merge them into one).\n",
    "2. `unique` (default `True`) → whether to remove duplicates.\n",
    "3. `sort` (default `False`) → whether to sort the final list.\n",
    "4. `case_sensitive` (default `False`) →\n",
    "\n",
    "   * If `unique=True`: controls how duplicates are compared.\n",
    "\n",
    "     * `False` → `\"Bob@x.com\"` and `\"bob@x.com\"` are duplicates.\n",
    "     * `True` → they’re considered different.\n",
    "   * If `unique=False`: only affects **final casing** (output), not duplicates.\n",
    "\n",
    "---\n",
    "\n",
    "### **Processing Rules**\n",
    "\n",
    "1. Merge all `*args` into one list.\n",
    "2. Remove `None` and empty strings (`\"\"`).\n",
    "3. If `case_sensitive=False`:\n",
    "\n",
    "   * Convert emails to lowercase **and** strip spaces before further processing.\n",
    "4. If `unique=True`:\n",
    "\n",
    "   * Keep only the **first occurrence** of each email, based on the case sensitivity rule.\n",
    "5. If `sort=True`:\n",
    "\n",
    "   * Sort the final list **alphabetically** (case-insensitive if `case_sensitive=False`).\n",
    "6. Return the final cleaned list.\n",
    "\n",
    "---\n",
    "\n",
    "### **Examples**\n",
    "\n",
    "```python\n",
    "list1 = [\" alice@example.com\", \"BOB@example.com \"]\n",
    "list2 = [\"bob@example.com\", None, \"carol@example.com\"]\n",
    "\n",
    "process_emails(list1, list2)\n",
    "# unique=True, case_sensitive=False, sort=False\n",
    "# → ['alice@example.com', 'bob@example.com', 'carol@example.com']\n",
    "\n",
    "process_emails(list1, list2, unique=True, case_sensitive=True)\n",
    "# → ['alice@example.com', 'BOB@example.com', 'bob@example.com', 'carol@example.com']\n",
    "\n",
    "process_emails(list1, list2, unique=False, sort=True, case_sensitive=False)\n",
    "# → ['alice@example.com', 'bob@example.com', 'bob@example.com', 'carol@example.com']\n",
    "```\n",
    "\n"
   ]
  },
  {
   "cell_type": "code",
   "execution_count": null,
   "id": "734676b3",
   "metadata": {},
   "outputs": [],
   "source": []
  },
  {
   "cell_type": "code",
   "execution_count": 30,
   "id": "07a83acf",
   "metadata": {},
   "outputs": [
    {
     "name": "stdout",
     "output_type": "stream",
     "text": [
      "Email List: ['alice@example.com', 'BOB@example.com', 'bob@example.com', 'carol@example.com']\n"
     ]
    },
    {
     "data": {
      "text/plain": [
       "['alice@example.com',\n",
       " 'BOB@example.com',\n",
       " 'bob@example.com',\n",
       " 'carol@example.com']"
      ]
     },
     "execution_count": 30,
     "metadata": {},
     "output_type": "execute_result"
    }
   ],
   "source": [
    "def process_emails(*args, unique=True, sort=False, case_sensitive=False):\n",
    "      email_list = []\n",
    "      for lst in args:\n",
    "            email_list.extend(lst)\n",
    "      email_list = [email.strip() for email in email_list if email]\n",
    "      print(f'Email List: {email_list}')\n",
    "      \n",
    "      if not case_sensitive:\n",
    "            email_list = [email.lower() for email in email_list]\n",
    "      \n",
    "      if unique:\n",
    "            email_list = list(dict.fromkeys(email_list))\n",
    "      \n",
    "      if sort:\n",
    "            email_list = set(email_list)\n",
    "\n",
    "      return email_list\n",
    "\n",
    "list1 = [\" alice@example.com\", \"BOB@example.com \"]\n",
    "list2 = [\"bob@example.com\", None, \"carol@example.com\"]\n",
    "\n",
    "process_emails(list1, list2, case_sensitive=True)"
   ]
  }
 ],
 "metadata": {
  "kernelspec": {
   "display_name": "Python 3",
   "language": "python",
   "name": "python3"
  },
  "language_info": {
   "codemirror_mode": {
    "name": "ipython",
    "version": 3
   },
   "file_extension": ".py",
   "mimetype": "text/x-python",
   "name": "python",
   "nbconvert_exporter": "python",
   "pygments_lexer": "ipython3",
   "version": "3.13.6"
  }
 },
 "nbformat": 4,
 "nbformat_minor": 5
}
