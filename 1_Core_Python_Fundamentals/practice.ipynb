{
 "cells": [
  {
   "cell_type": "code",
   "execution_count": 51,
   "id": "2ea93bde",
   "metadata": {},
   "outputs": [
    {
     "name": "stdout",
     "output_type": "stream",
     "text": [
      "Discount applied!\n"
     ]
    }
   ],
   "source": [
    "price = 3.4\n",
    "quantity = 30\n",
    "discount_code = 'SAVE10'\n",
    "\n",
    "total_cost = price * quantity\n",
    "\n",
    "if total_cost > 100 and discount_code:\n",
    "      print('Discount applied!')\n",
    "else:\n",
    "      print('No discount')"
   ]
  },
  {
   "cell_type": "code",
   "execution_count": 52,
   "id": "02c9f511",
   "metadata": {},
   "outputs": [
    {
     "name": "stdout",
     "output_type": "stream",
     "text": [
      "Total value: 650,  Total cost: 3.\n"
     ]
    }
   ],
   "source": [
    "orders = [250, 100, -40, 300, 0, 120]\n",
    "valid_orders = 0\n",
    "total_value = 0\n",
    "\n",
    "for order in orders:\n",
    "      if order < 0:\n",
    "            continue\n",
    "      elif order == 0:\n",
    "            break\n",
    "      elif order > 0:\n",
    "            valid_orders += 1\n",
    "            total_value += order\n",
    "\n",
    "print(f'Total value: {total_value},  Total cost: {valid_orders}.')"
   ]
  },
  {
   "cell_type": "code",
   "execution_count": 53,
   "id": "09cae635",
   "metadata": {},
   "outputs": [
    {
     "name": "stdout",
     "output_type": "stream",
     "text": [
      "Total value: 650,  Total cost: 3.\n"
     ]
    }
   ],
   "source": [
    "orders = [250, 100, -40, 300, 0, 120]\n",
    "valid_orders = 0\n",
    "total_value = 0\n",
    "i = 0\n",
    "\n",
    "while i < len(orders):\n",
    "      if orders[i] < 0:\n",
    "            i += 1\n",
    "            continue\n",
    "      elif orders[i] == 0:\n",
    "            break\n",
    "      else:\n",
    "            valid_orders += 1\n",
    "            total_value += orders[i]\n",
    "      i += 1\n",
    "\n",
    "print(f'Total value: {total_value},  Total cost: {valid_orders}.')"
   ]
  },
  {
   "cell_type": "code",
   "execution_count": 54,
   "id": "6c806426",
   "metadata": {},
   "outputs": [
    {
     "name": "stdout",
     "output_type": "stream",
     "text": [
      "['alice@example.com', 'bob@example.com', 'carol@example.com', 'bob@example.com', 'dan@example.com']\n",
      "{'dan@example.com', 'alice@example.com', 'carol@example.com', 'bob@example.com'}\n",
      "['alice@example.com', 'bob@example.com', 'carol@example.com', 'dan@example.com']\n"
     ]
    }
   ],
   "source": [
    "# You need to produce a cleaned list where:\n",
    "# Emails are lowercased.\n",
    "# Leading/trailing spaces are removed.\n",
    "# Empty strings and None values are removed entirely.\n",
    "# No duplicates (hint: order should be preserved).\n",
    "\n",
    "raw_emails = [\n",
    "    \" alice@example.com  \", \n",
    "    \"BOB@EXAMPLE.COM\", \n",
    "    \"\", \n",
    "    \"carol@example.com\", \n",
    "    \"BOB@EXAMPLE.COM\", \n",
    "    None, \n",
    "    \"dan@EXAMPLE.com   \"\n",
    "]\n",
    "\n",
    "cleaned_emails = [email.strip().lower() for email in raw_emails if email]\n",
    "print(cleaned_emails)\n",
    "cleaned_emails = set([email.strip().lower() for email in raw_emails if email])\n",
    "print(cleaned_emails)\n",
    "cleaned_emails = list(dict.fromkeys(email.strip().lower() for email in raw_emails if email))\n",
    "print(cleaned_emails)"
   ]
  },
  {
   "cell_type": "code",
   "execution_count": 55,
   "id": "17e22f6a",
   "metadata": {},
   "outputs": [
    {
     "data": {
      "text/plain": [
       "['alice@example.com',\n",
       " 'bob@example.com',\n",
       " 'carol@example.com',\n",
       " 'bob@example.com',\n",
       " 'dan@example.com']"
      ]
     },
     "execution_count": 55,
     "metadata": {},
     "output_type": "execute_result"
    }
   ],
   "source": [
    "# write clean_emails() so:\n",
    "# It strips, lowercases, removes falsy values (\"\", None).\n",
    "# If unique=True, preserves first occurrence only.\n",
    "# If unique=False, allows duplicates.\n",
    "# Returns the list.\n",
    "\n",
    "def clean_emails(raw_emails, unique=True):\n",
    "    if unique:\n",
    "          cleaned = list(dict.fromkeys(email.strip().lower() for email in raw_emails if email))\n",
    "          return cleaned\n",
    "    else:\n",
    "          cleaned = [email.strip().lower() for email in raw_emails if email]\n",
    "          return cleaned\n",
    "clean_emails(raw_emails, False)\n"
   ]
  },
  {
   "cell_type": "code",
   "execution_count": 56,
   "id": "a6540be9",
   "metadata": {},
   "outputs": [
    {
     "data": {
      "text/plain": [
       "['alice@example.com',\n",
       " 'bob@example.com',\n",
       " 'carol@example.com',\n",
       " 'dan@example.com']"
      ]
     },
     "execution_count": 56,
     "metadata": {},
     "output_type": "execute_result"
    }
   ],
   "source": [
    "# BETTER\n",
    "\n",
    "def clean_emails(raw_emails, unique=True):\n",
    "    cleaned = [email.strip().lower() for email in raw_emails if email]\n",
    "    if unique:\n",
    "        cleaned = list(dict.fromkeys(cleaned))\n",
    "    return cleaned\n",
    "clean_emails(raw_emails)"
   ]
  },
  {
   "cell_type": "code",
   "execution_count": 57,
   "id": "913b1b84",
   "metadata": {},
   "outputs": [
    {
     "name": "stdout",
     "output_type": "stream",
     "text": [
      "5\n",
      "Average rating: 7.2\n",
      "All ratings are at least 5? True\n",
      "Any perfect 10? True\n"
     ]
    }
   ],
   "source": [
    "ratings = [6, 8, 10, 7, 5]\n",
    "print(len(ratings))\n",
    "\n",
    "print(f'Average rating: {sum(ratings)/len(ratings)}')\n",
    "print(f'All ratings are at least 5? {all(i >= 5 for i in ratings)}')\n",
    "print(f'Any perfect 10? {any(i == 10 for i in ratings)}')"
   ]
  },
  {
   "cell_type": "code",
   "execution_count": 58,
   "id": "561250b7",
   "metadata": {},
   "outputs": [
    {
     "name": "stdout",
     "output_type": "stream",
     "text": [
      "[('John', 2500), ('Mary', 1800), ('Luke', 3200), ('Sophia', 1500), ('Peter', 2800)]\n",
      "[('John', 2500), ('Luke', 3200), ('Peter', 2800)]\n",
      "[('John', 'Silver'), ('Luke', 'Gold'), ('Peter', 'Silver')]\n",
      "No  Name  Sales  Tier\n",
      "1   John   2500\n",
      "2   Luke   3200\n",
      "3   Peter  2800\n"
     ]
    }
   ],
   "source": [
    "employees = [\"John\", \"Mary\", \"Luke\", \"Sophia\", \"Peter\"]\n",
    "sales = [2500, 1800, 3200, 1500, 2800]\n",
    "\n",
    "employee_sales_pair = list(zip(employees, sales))\n",
    "print(employee_sales_pair)\n",
    "\n",
    "# Remove any employees whose sales are below 2000.\n",
    "less_2k = list(filter(lambda pair: pair[1] >= 2000, employee_sales_pair))\n",
    "print(less_2k)\n",
    "\n",
    "def tier(sale):\n",
    "      if sale >= 3000:\n",
    "            return 'Gold'\n",
    "      if sale >= 2500:\n",
    "            return 'Silver'\n",
    "      if sale >= 2000:\n",
    "            return 'Bronze'\n",
    "\n",
    "# assign a performance tier based on sales\n",
    "tiered = list(map(lambda pair: (pair[0], tier(pair[1])), less_2k))\n",
    "print(tiered)\n",
    "\n",
    "# Produce a numbered report table\n",
    "print('No  Name  Sales  Tier')\n",
    "\n",
    "for index, (name, sale) in enumerate(less_2k, start=1):\n",
    "      print(f'{index:<3} {name:<6} {sale}')"
   ]
  },
  {
   "cell_type": "code",
   "execution_count": 59,
   "id": "e298ed2b",
   "metadata": {},
   "outputs": [
    {
     "name": "stdout",
     "output_type": "stream",
     "text": [
      "[('Alice', 'A'), ('Carol', 'A'), ('Dave', 'C')]\n",
      "No  Name    Grade\n",
      "1   Alice  A\n",
      "2   Carol  A\n",
      "3   Dave   C\n"
     ]
    }
   ],
   "source": [
    "students = [\"Alice\", \"Bob\", \"Carol\", \"Dave\"]\n",
    "scores   = [85, 42, 90, 68]\n",
    "\n",
    "def to_grade(s):\n",
    "    if s >= 80: return \"A\"\n",
    "    if s >= 70: return \"B\"\n",
    "    if s >= 50: return \"C\"\n",
    "\n",
    "rows = list(\n",
    "    map(\n",
    "        lambda pair: (pair[0], to_grade(pair[1])),\n",
    "        filter(lambda pair: pair[1] >= 50, zip(students, scores))\n",
    "    )\n",
    ")\n",
    "print(rows)\n",
    "\n",
    "print(\"No  Name    Grade\")\n",
    "for i, (name, grade) in enumerate(rows, start=1):\n",
    "    print(f\"{i:<3} {name:<6} {grade}\")\n"
   ]
  },
  {
   "cell_type": "code",
   "execution_count": 60,
   "id": "60b0a9a5",
   "metadata": {},
   "outputs": [
    {
     "name": "stdout",
     "output_type": "stream",
     "text": [
      "[96000, 150000, 24000, 105000, 60000, 12000]\n",
      "[('Laptop', 96000), ('Phone', 150000), ('Tablet', 24000), ('Camera', 105000), ('Headphones', 60000), ('Monitor', 12000)]\n",
      "[('Laptop', 96000), ('Phone', 150000), ('Camera', 105000), ('Headphones', 60000)]\n",
      "[('Laptop', 96000, 'Gold'), ('Phone', 150000, 'Platinum'), ('Camera', 105000, 'Platinum'), ('Headphones', 60000, 'Gold')]\n",
      "No    Product      Revenue    Rank\n",
      "1     Laptop       96000      Gold\n",
      "2     Phone        150000     Platinum\n",
      "3     Camera       105000     Platinum\n",
      "4     Headphones   60000      Gold\n",
      "Something [('Laptop', 120, 800), ('Phone', 300, 500), ('Tablet', 80, 300), ('Camera', 150, 700), ('Headphones', 400, 150), ('Monitor', 60, 200)]\n"
     ]
    }
   ],
   "source": [
    "products = [\"Laptop\", \"Phone\", \"Tablet\", \"Camera\", \"Headphones\", \"Monitor\"]\n",
    "units_sold = [120, 300, 80, 150, 400, 60]\n",
    "unit_price = [800, 500, 300, 700, 150, 200]\n",
    "\n",
    "total_rev = [s*p for s,p in list(zip(units_sold, unit_price))]\n",
    "print(total_rev)\n",
    "\n",
    "products_rev = [(a,b) for a,b in zip(products, total_rev)]\n",
    "print(products_rev)\n",
    "\n",
    "# Remove any products with revenue below 50,000.\n",
    "# less_50k = list(filter(lambda pair:pair[1]>=50000, products_rev))\n",
    "less_50k = [x for x in products_rev if x[1] >= 50000]\n",
    "print(less_50k)\n",
    "\n",
    "def ranking(price):\n",
    "      if price >= 100000:\n",
    "            return 'Platinum'\n",
    "      if price >= 50000:\n",
    "            return 'Gold'\n",
    "      if price >= 25000:\n",
    "            return 'Silver'\n",
    "      if price >= 10000:\n",
    "            return 'Bronze'\n",
    "      \n",
    "rows = [(product, revenue, ranking(revenue)) for product, revenue in less_50k]\n",
    "print(rows)\n",
    "\n",
    "print('No    Product      Revenue    Rank')\n",
    "\n",
    "for i, (product, revenue, rank) in enumerate(rows, start=1):\n",
    "      print(f'{i:<6}{product:<13}{revenue:<11}{rank}')\n",
    "      \n",
    "print(f'Something {list(zip(products, units_sold, unit_price))}')"
   ]
  },
  {
   "cell_type": "code",
   "execution_count": 61,
   "id": "672f3b71",
   "metadata": {},
   "outputs": [
    {
     "name": "stdout",
     "output_type": "stream",
     "text": [
      "21\n",
      "['apple', 'banana', 'cherry', 'date']\n"
     ]
    }
   ],
   "source": [
    "lst = [1,2,3,4,5,6]\n",
    "tpp = tuple(lst)\n",
    "print(sum(lst))\n",
    "\n",
    "fruits = [\"apple\", \"banana\", \"cherry\"]\n",
    "fruits.append(\"date\")\n",
    "print(fruits)  # ['apple', 'banana', 'cherry', 'date']\n"
   ]
  },
  {
   "cell_type": "code",
   "execution_count": 62,
   "id": "97f9f5f6",
   "metadata": {},
   "outputs": [
    {
     "name": "stdout",
     "output_type": "stream",
     "text": [
      "[1, 2, 3, 4, 9, 8, 7, 6, 5]\n"
     ]
    }
   ],
   "source": [
    "i = [1,2,3,4]\n",
    "j = (9,8,7,6,5)\n",
    "\n",
    "i.extend(j)\n",
    "\n",
    "print(i)"
   ]
  },
  {
   "cell_type": "code",
   "execution_count": 63,
   "id": "768fa42c",
   "metadata": {},
   "outputs": [
    {
     "name": "stdout",
     "output_type": "stream",
     "text": [
      "[1, 2, 3, 4, 9, 8, 7, 6, 5]\n"
     ]
    }
   ],
   "source": [
    "print(i)"
   ]
  },
  {
   "cell_type": "code",
   "execution_count": 64,
   "id": "cde4abc6",
   "metadata": {},
   "outputs": [
    {
     "name": "stdout",
     "output_type": "stream",
     "text": [
      "['apple', 'banana', 'cherry', 'date']\n",
      "['apple', 'kiwi', 'banana', 'cherry', 'date']\n",
      "['apple', 'kiwi', 'cherry', 'date']\n",
      "['apple', 'kiwi', 'cherry', 'date', 'mango', 'pear']\n",
      "['apple', 'cherry', 'date', 'kiwi', 'mango', 'pear']\n",
      "1\n"
     ]
    }
   ],
   "source": [
    "inventory = [\"apple\", \"banana\", \"cherry\"]\n",
    "\n",
    "inventory.append('date')\n",
    "print(inventory)\n",
    "inventory.insert(1, 'kiwi')\n",
    "print(inventory)\n",
    "inventory.remove('banana')\n",
    "print(inventory)\n",
    "inventory.extend(['mango', 'pear'])\n",
    "print(inventory)\n",
    "inventory.sort()\n",
    "print(inventory)\n",
    "\n",
    "print(inventory.count('mango'))"
   ]
  },
  {
   "cell_type": "code",
   "execution_count": 65,
   "id": "96a86e76",
   "metadata": {},
   "outputs": [
    {
     "name": "stdout",
     "output_type": "stream",
     "text": [
      "[('Inception', 8.8, 2010), ('The Matrix', 8.7, 1999), ('The Prestige', 8.7, 2006), ('Interstellar', 8.6, 2014), ('Memento', 8.4, 2000)]\n",
      "[('The Matrix', 8.7, 1999), ('Memento', 8.4, 2000), ('The Prestige', 8.7, 2006), ('Inception', 8.8, 2010), ('Interstellar', 8.6, 2014)]\n",
      "[('Memento', 8.4, 2000), ('Inception', 8.8, 2010), ('The Matrix', 8.7, 1999), ('The Prestige', 8.7, 2006), ('Interstellar', 8.6, 2014)]\n",
      "[('The Prestige', 8.7, 2006), ('Inception', 8.8, 2010), ('Memento', 8.4, 2000), ('Interstellar', 8.6, 2014), ('The Matrix', 8.7, 1999)]\n",
      "[('Inception', 8.8, 2010), ('The Prestige', 8.7, 2006), ('The Matrix', 8.7, 1999), ('Interstellar', 8.6, 2014), ('Memento', 8.4, 2000)]\n",
      "[('Inception', 8.8, 2010), ('The Matrix', 8.7, 1999), ('The Prestige', 8.7, 2006), ('Interstellar', 8.6, 2014), ('Memento', 8.4, 2000)]\n",
      "('Inception', 8.8, 2010) -> (-8.8, 'Inception')\n",
      "('The Matrix', 8.7, 1999) -> (-8.7, 'The Matrix')\n",
      "('The Prestige', 8.7, 2006) -> (-8.7, 'The Prestige')\n",
      "('Interstellar', 8.6, 2014) -> (-8.6, 'Interstellar')\n",
      "('Memento', 8.4, 2000) -> (-8.4, 'Memento')\n"
     ]
    }
   ],
   "source": [
    "movies = [\n",
    "    (\"Inception\", 8.8, 2010),\n",
    "    (\"The Matrix\", 8.7, 1999),\n",
    "    (\"Interstellar\", 8.6, 2014),\n",
    "    (\"The Prestige\", 8.7, 2006),\n",
    "    (\"Memento\", 8.4, 2000)\n",
    "]\n",
    "\n",
    "movies.sort(key=lambda x:x[1], reverse=True)\n",
    "print(movies)\n",
    "\n",
    "movies.sort(key=lambda x:x[2])\n",
    "print(movies)\n",
    "\n",
    "movies.sort(key=lambda x:len(x[0]))\n",
    "print(movies)\n",
    "\n",
    "movies.sort(key=lambda x:x[0][-1])\n",
    "print(movies)\n",
    "\n",
    "movies.sort(key=lambda x:x[1], reverse=True)\n",
    "print(movies)\n",
    "\n",
    "movies.sort(key=lambda x: (-x[1], x[0]))\n",
    "print(movies)\n",
    "\n",
    "for m in movies:\n",
    "    print(m, \"->\", (-m[1], m[0]))\n",
    "\n"
   ]
  },
  {
   "cell_type": "code",
   "execution_count": 84,
   "id": "551db71d",
   "metadata": {},
   "outputs": [
    {
     "name": "stdout",
     "output_type": "stream",
     "text": [
      "2\n",
      "2\n",
      "1\n",
      "6\n",
      "[4, 4, 4, 4, 4, 4, 3, 2, 1]\n"
     ]
    }
   ],
   "source": [
    "nums = (1, 2, 3, 2)\n",
    "print(nums.count(2))   # 2\n",
    "print(nums.index(3))   # 2\n",
    "print(nums.index(2))   \n",
    "\n",
    "jj = [1,2,3,4,4,4,4,4,4]\n",
    "print(jj.count(4))\n",
    "jj.reverse()\n",
    "print(jj)"
   ]
  },
  {
   "cell_type": "code",
   "execution_count": 73,
   "id": "456dd151",
   "metadata": {},
   "outputs": [
    {
     "name": "stdout",
     "output_type": "stream",
     "text": [
      "9\n",
      "(7, 9, 3, 7)\n",
      "3\n",
      "1\n"
     ]
    }
   ],
   "source": [
    "points = (3, 7, 9, 3, 7, 3)\n",
    "\n",
    "print(points[2])\n",
    "print(points[1:5])\n",
    "print(points.count(3))\n",
    "print(points.index(7))\n",
    "# points[0] = 10"
   ]
  },
  {
   "cell_type": "code",
   "execution_count": 79,
   "id": "ae2c2089",
   "metadata": {},
   "outputs": [
    {
     "name": "stdout",
     "output_type": "stream",
     "text": [
      "{'Book B', 'Book A', 'Book D'}\n",
      "set()\n",
      "{'Book B', 'Book F', 'Book A', 'Book D'}\n"
     ]
    }
   ],
   "source": [
    "available = {\"Book A\", \"Book B\", \"Book C\", \"Book D\"}\n",
    "borrowed = {\"Book C\", \"Book E\"}\n",
    "\n",
    "available = available - borrowed\n",
    "print(available)\n",
    "print(available & borrowed)\n",
    "available.update({'Book F'})\n",
    "print(available)"
   ]
  },
  {
   "cell_type": "code",
   "execution_count": 85,
   "id": "949c34c5",
   "metadata": {},
   "outputs": [],
   "source": [
    "a_set = set()"
   ]
  },
  {
   "cell_type": "code",
   "execution_count": 101,
   "id": "943c2860",
   "metadata": {},
   "outputs": [
    {
     "name": "stdout",
     "output_type": "stream",
     "text": [
      "dict_items([('a', 1), ('b', 2)])\n",
      "{('a', 1), 4, 5, 6, 7, 8, ('b', 2)}\n"
     ]
    }
   ],
   "source": [
    "dict = {'a':1, 'b':2}\n",
    "st = {4,5,6,7,8}\n",
    "print(dict.items())\n",
    "st.update(dict.items())\n",
    "print(st)"
   ]
  },
  {
   "cell_type": "code",
   "execution_count": 136,
   "id": "f70551d4",
   "metadata": {},
   "outputs": [
    {
     "name": "stdout",
     "output_type": "stream",
     "text": [
      "{'101': {'name': 'Alice', 'age': 20, 'grade': 'A'}, '102': {'name': 'Bob', 'age': 22, 'grade': 'B'}, '103': {'name': 'Carol', 'age': 19, 'grade': 'C'}, '104': {'name': 'Dave', 'age': 21, 'grade': 'B'}}\n",
      "{'101': {'name': 'Alice', 'age': 20, 'grade': 'A'}, '102': {'name': 'Bob', 'age': 22, 'grade': 'B'}, '103': {'name': 'Carol', 'age': 19, 'grade': 'B+'}, '104': {'name': 'Dave', 'age': 21, 'grade': 'B'}}\n",
      "{'102': {'name': 'Bob', 'age': 22, 'grade': 'B'}, '103': {'name': 'Carol', 'age': 19, 'grade': 'B+'}, '104': {'name': 'Dave', 'age': 21, 'grade': 'B'}}\n",
      "[('102', {'name': 'Bob', 'age': 22, 'grade': 'B'}), ('103', {'name': 'Carol', 'age': 19, 'grade': 'B+'}), ('104', {'name': 'Dave', 'age': 21, 'grade': 'B'})]\n"
     ]
    }
   ],
   "source": [
    "students = {\n",
    "    \"101\": {\"name\": \"Alice\", \"age\": 20, \"grade\": \"A\"},\n",
    "    \"102\": {\"name\": \"Bob\", \"age\": 22, \"grade\": \"B\"},\n",
    "    \"103\": {\"name\": \"Carol\", \"age\": 19, \"grade\": \"C\"}\n",
    "}\n",
    "\n",
    "# getting Bob's grades safely\n",
    "students.get('102')['grade']\n",
    "\n",
    "students['104'] = {\"name\": \"Dave\", \"age\": 21, \"grade\": \"B\"}\n",
    "print(students)\n",
    "\n",
    "students['103']['grade'] = 'B+'\n",
    "print(students)\n",
    "\n",
    "students.pop('101')\n",
    "print(students)\n",
    "\n",
    "print(list(students.items()))"
   ]
  },
  {
   "cell_type": "code",
   "execution_count": 189,
   "id": "cf866c60",
   "metadata": {},
   "outputs": [
    {
     "name": "stdout",
     "output_type": "stream",
     "text": [
      "dict_items([('order1', {'customer': 'Alice', 'items': {'apple': 3, 'banana': 2}}), ('order2', {'customer': 'Bob', 'items': {'banana': 5, 'orange': 4}}), ('order3', {'customer': 'Carol', 'items': {'apple': 1, 'pear': 2, 'banana': 1}})])\n",
      "order1 Alice 5\n",
      "order2 Bob 9\n",
      "order3 Carol 4\n",
      "[2, 5, 1]\n",
      "8\n",
      "{'order1': {'customer': 'Alice', 'items': {'apple': 3, 'banana': 2}}, 'order2': {'customer': 'Bob', 'items': {'banana': 5, 'orange': 4}}, 'order3': {'customer': 'Carol', 'items': {'apple': 1, 'pear': 2, 'banana': 1}}, 'order4': {'customer': 'Dave', 'items': {'apple': 2, 'mango': 3}}}\n",
      "{'customer': 'Bob', 'items': {'banana': 5, 'orange': 6}}\n",
      "{'order2': {'customer': 'Bob', 'items': {'banana': 5, 'orange': 6}}, 'order3': {'customer': 'Carol', 'items': {'apple': 1, 'pear': 2, 'banana': 1}}, 'order4': {'customer': 'Dave', 'items': {'apple': 2, 'mango': 3}}}\n",
      "order2 - Bob: 11 items\n",
      "order3 - Carol: 4 items\n",
      "order4 - Dave: 5 items\n"
     ]
    }
   ],
   "source": [
    "orders = {\n",
    "    \"order1\": {\n",
    "        \"customer\": \"Alice\", \n",
    "        \"items\": {\"apple\": 3, \"banana\": 2}\n",
    "        },\n",
    "    \"order2\": {\n",
    "        \"customer\": \"Bob\", \n",
    "        \"items\": {\"banana\": 5, \"orange\": 4}\n",
    "        },\n",
    "    \"order3\": {\n",
    "        \"customer\": \"Carol\", \n",
    "        \"items\": {\"apple\": 1, \"pear\": 2, \"banana\": 1}\n",
    "        }\n",
    "}\n",
    "\n",
    "# Print out each order with the customer name and total number of items ordered.\n",
    "print(orders.items())\n",
    "for ord, info in orders.items():\n",
    "      print(ord, info['customer'], sum(info['items'].values()))\n",
    "\n",
    "# Find the total quantity of bananas ordered across all orders.\n",
    "banana_count_per_order = [info['items']['banana'] for _, info in orders.items()]\n",
    "print(banana_count_per_order)\n",
    "print(sum(banana_count_per_order))\n",
    "\n",
    "# Add a new order \"order4\" for \"Dave\" with {\"apple\": 2, \"mango\": 3}.\n",
    "orders['order4'] = {'customer':'Dave', 'items':{\"apple\": 2, \"mango\": 3}}\n",
    "print(orders)\n",
    "\n",
    "# Update \"order2\" so that Bob’s orange count becomes 6.\n",
    "orders['order2']['items']['orange'] = 6\n",
    "print(orders['order2'])\n",
    "\n",
    "# Remove \"order1\" completely from the orders.\n",
    "orders.pop('order1')\n",
    "print(orders)\n",
    "\n",
    "# loop through and print a clean report\n",
    "for ord, info in orders.items():\n",
    "    print(f\"{ord} - {info['customer']}: {sum(info['items'].values())} items\")"
   ]
  },
  {
   "cell_type": "code",
   "execution_count": 190,
   "id": "01da41ff",
   "metadata": {},
   "outputs": [
    {
     "name": "stdout",
     "output_type": "stream",
     "text": [
      "[1, 2, 3, 4, 5]\n",
      "[16, 17, 18, 19, 20]\n",
      "[2, 4, 6, 8, 10, 12, 14, 16, 18, 20]\n",
      "[20, 19, 18, 17, 16, 15, 14, 13, 12, 11, 10, 9, 8, 7, 6, 5, 4, 3, 2, 1]\n",
      "[1, 2, 3, 4, 5, 6, 7, 8, 9, 10, 11, 12, 13, 14, 15, 16, 17, 18, 19, 20]\n"
     ]
    }
   ],
   "source": [
    "data = list(range(1, 21))   # numbers 1 through 20\n",
    "\n",
    "# Get the first 5 numbers.\n",
    "first_5 = data[:5]\n",
    "print(first_5)\n",
    "\n",
    "# Get the last 5 numbers.\n",
    "last_5 = data[-5:]\n",
    "print(last_5)\n",
    "\n",
    "# Get all the even numbers.\n",
    "even = data[1::2]\n",
    "print(even)\n",
    "\n",
    "# Reverse the list using slicing.\n",
    "rev_list = data[::-1]\n",
    "print(rev_list)\n",
    "\n",
    "# Make a copy of the list without using list() or copy()\n",
    "new = data\n",
    "print(data[:])"
   ]
  },
  {
   "cell_type": "code",
   "execution_count": 195,
   "id": "a2ba4820",
   "metadata": {},
   "outputs": [
    {
     "name": "stdout",
     "output_type": "stream",
     "text": [
      "['banana', 'cherry']\n",
      "['APPLE', 'BANANA', 'CHERRY', 'DATE', 'FIG', 'GRAPE']\n",
      "[]\n"
     ]
    }
   ],
   "source": [
    "words = [\"apple\", \"banana\", \"cherry\", \"date\", \"fig\", \"grape\"]\n",
    "\n",
    "# create a list comprehension that collects all words with more than 5 letters.\n",
    "mor5 = [x for x in words if len(x) > 5]\n",
    "print(mor5)\n",
    "\n",
    "# Create a generator expression that yields each word uppercased.\n",
    "upp = (x.upper() for x in words)\n",
    "print(list(upp))\n",
    "print(list(upp))"
   ]
  },
  {
   "cell_type": "code",
   "execution_count": 207,
   "id": "6f7034e4",
   "metadata": {},
   "outputs": [
    {
     "name": "stdout",
     "output_type": "stream",
     "text": [
      "['strawberry', 'banana', 'kiwi', 'cherry', 'grapefruit', 'fig']\n",
      "[('strawberry', 10), ('apple', 5), ('banana', 6), ('kiwi', 4), ('cherry', 6), ('grapefruit', 10), ('fig', 3)]\n",
      "yrrebwarts\n",
      "elppa\n",
      "ananab\n"
     ]
    }
   ],
   "source": [
    "words = [\"strawberry\", \"apple\", \"banana\", \"kiwi\", \"cherry\", \"grapefruit\", \"fig\"]\n",
    "vowels = ['a', 'e', 'i', 'o', 'u']\n",
    "cons_words = [x for x in words if x[0] not in vowels]\n",
    "print(cons_words)\n",
    "\n",
    "word_length = [(x, len(x)) for x in words]\n",
    "print(word_length)\n",
    "\n",
    "rev = (x[::-1] for x in words)\n",
    "print(next(rev))\n",
    "print(next(rev))\n",
    "print(next(rev))"
   ]
  },
  {
   "cell_type": "code",
   "execution_count": 209,
   "id": "00c2e97e",
   "metadata": {},
   "outputs": [
    {
     "name": "stdout",
     "output_type": "stream",
     "text": [
      "10 15\n"
     ]
    }
   ],
   "source": [
    "x = 10\n",
    "y = x\n",
    "y += 5\n",
    "print(x, y)   # 10, 15  ← separate copies because ints are immutable\n",
    "\n"
   ]
  },
  {
   "cell_type": "code",
   "execution_count": 216,
   "id": "4701d235",
   "metadata": {},
   "outputs": [
    {
     "name": "stdout",
     "output_type": "stream",
     "text": [
      "{'Alice': 'Not Graded', 'Bob': 'Not Graded', 'Carol': 'Not Graded'}\n",
      "{'Alice': 'Not Graded', 'Bob': 'Not Graded', 'Carol': 'Not Graded', 'Dave': 'Not Graded'}\n",
      "{'Alice': 'Not Graded', 'Bob': 'Not Graded', 'Dave': 'Not Graded'}\n",
      "Alice -> Not Graded\n",
      "Bob -> Not Graded\n",
      "Dave -> Not Graded\n"
     ]
    }
   ],
   "source": [
    "students = [\"Alice\", \"Bob\", \"Carol\"]\n",
    "\n",
    "student_grades = dict.fromkeys(students, 'Not Graded')\n",
    "print(student_grades)\n",
    "\n",
    "student_grades.setdefault('Dave', 'Not Graded')\n",
    "print(student_grades)\n",
    "\n",
    "student_grades.pop('Carol')\n",
    "print(student_grades)\n",
    "\n",
    "for s, g in student_grades.items():\n",
    "      print(f'{s} -> {g}')"
   ]
  },
  {
   "cell_type": "code",
   "execution_count": 218,
   "id": "0e0773f7",
   "metadata": {},
   "outputs": [
    {
     "name": "stdout",
     "output_type": "stream",
     "text": [
      "20\n",
      "5\n",
      "5\n",
      "Empty\n"
     ]
    }
   ],
   "source": [
    "nums = [10, 5, 20]\n",
    "print(max(nums))                          # 20\n",
    "print(min(nums))                          # 5\n",
    "print(max(nums, key=lambda x: -x))        # 5 (largest negative = smallest)\n",
    "print(max([], default=\"Empty\"))           # \"Empty\"\n"
   ]
  },
  {
   "cell_type": "code",
   "execution_count": 226,
   "id": "34e9c796",
   "metadata": {},
   "outputs": [
    {
     "name": "stdout",
     "output_type": "stream",
     "text": [
      "('Carol', 1350, 4)\n",
      "4\n"
     ]
    }
   ],
   "source": [
    "players = [\n",
    "    (\"Alice\", 1200, 5),\n",
    "    (\"Bob\", 950, 7),\n",
    "    (\"Carol\", 1350, 4),\n",
    "    (\"Dave\", 1200, 6),\n",
    "]\n",
    "\n",
    "max_score = max(players, key=lambda x: x[1])\n",
    "print(max_score)\n",
    "\n",
    "lowest_game_no = min(x[2] for x in players)\n",
    "print(lowest_game_no)\n",
    "\n"
   ]
  },
  {
   "cell_type": "code",
   "execution_count": 229,
   "id": "d58d9981",
   "metadata": {},
   "outputs": [
    {
     "name": "stdout",
     "output_type": "stream",
     "text": [
      "[('Carol', 1350, 4), ('Eve', 1350, 6), ('Alice', 1200, 5), ('Dave', 1200, 6), ('Bob', 950, 7)]\n",
      "Top 3 Players\n",
      "1. Carol - 1350 pts, 4 games\n",
      "2. Eve   - 1350 pts, 6 games\n",
      "3. Alice - 1200 pts, 5 games\n"
     ]
    }
   ],
   "source": [
    "players = [\n",
    "    (\"Alice\", 1200, 5),\n",
    "    (\"Bob\", 950, 7),\n",
    "    (\"Carol\", 1350, 4),\n",
    "    (\"Dave\", 1200, 6),\n",
    "    (\"Eve\", 1350, 6),\n",
    "]\n",
    "\n",
    "# 1) Sort by score (desc), then games (asc), then name (asc)\n",
    "ranked = sorted(players, key=lambda x: (-x[1], x[2], x[0]))\n",
    "print(ranked)\n",
    "\n",
    "# 2) Print top 3\n",
    "print(\"Top 3 Players\")\n",
    "for i, (name, score, games) in enumerate(ranked[:3], start=1):\n",
    "    print(f\"{i}. {name:<5} - {score} pts, {games} games\")\n"
   ]
  },
  {
   "cell_type": "code",
   "execution_count": 231,
   "id": "4fe1cbb7",
   "metadata": {},
   "outputs": [
    {
     "name": "stdout",
     "output_type": "stream",
     "text": [
      "2\n",
      "3\n",
      "1\n"
     ]
    }
   ],
   "source": [
    "text = \"banana\"\n",
    "print(text.count(\"na\"))       # 2\n",
    "print(text.count(\"a\"))        # 3\n",
    "print(text.count(\"a\", 0, 3))  # 1\n"
   ]
  },
  {
   "cell_type": "code",
   "execution_count": 234,
   "id": "9c17fa87",
   "metadata": {},
   "outputs": [
    {
     "name": "stdout",
     "output_type": "stream",
     "text": [
      "3\n",
      "1\n"
     ]
    }
   ],
   "source": [
    "scores = [85, 92, 78, 92, 85, 92, 100, 85]\n",
    "print(scores.count(92))\n",
    "print(scores.count(100))"
   ]
  },
  {
   "cell_type": "code",
   "execution_count": 237,
   "id": "ea28faf6",
   "metadata": {},
   "outputs": [
    {
     "name": "stdout",
     "output_type": "stream",
     "text": [
      "2\n",
      "2\n"
     ]
    }
   ],
   "source": [
    "text = \"abracadabra\"\n",
    "count = text.count('abra')\n",
    "print(count)\n",
    "count = text.count('a', 0, 5)\n",
    "print(count)"
   ]
  },
  {
   "cell_type": "code",
   "execution_count": 244,
   "id": "842d4452",
   "metadata": {},
   "outputs": [
    {
     "name": "stdout",
     "output_type": "stream",
     "text": [
      "7\n",
      "Counter({'apple': 3, 'banana': 2, 'pear': 1, 'orange': 1})\n",
      "[('apple', 3), ('banana', 2)]\n",
      "1\n"
     ]
    }
   ],
   "source": [
    "from collections import Counter\n",
    "basket = [\"apple\", \"banana\", \"apple\", \"pear\", \"banana\", \"apple\", \"orange\"]\n",
    "print(len(basket))\n",
    "print(Counter(basket))\n",
    "print(Counter(basket).most_common(2))\n",
    "print(Counter(basket)['pear'])"
   ]
  },
  {
   "cell_type": "code",
   "execution_count": 247,
   "id": "a31cffe6",
   "metadata": {},
   "outputs": [
    {
     "name": "stdout",
     "output_type": "stream",
     "text": [
      "[('1', 4)]\n"
     ]
    }
   ],
   "source": [
    "pin = {'1':4, '2':3}\n",
    "print(Counter(pin).most_common(1))"
   ]
  },
  {
   "cell_type": "code",
   "execution_count": 270,
   "id": "5fca89a0",
   "metadata": {},
   "outputs": [
    {
     "name": "stdout",
     "output_type": "stream",
     "text": [
      "3\n",
      "3\n",
      "['python', 'is', 'powerful', 'python', 'is', 'easy', 'to', 'learn', 'many', 'people', 'love', 'python', 'because', 'it', 'is', 'versatile', 'and', 'readable']\n",
      "[('python', 3), ('is', 3)]\n",
      "14\n"
     ]
    }
   ],
   "source": [
    "paragraph = \"\"\"\n",
    "Python is powerful. Python is easy to learn.\n",
    "Many people love Python because it is versatile and readable.\n",
    "\"\"\"\n",
    "\n",
    "print(paragraph.count('Python'))\n",
    "print(paragraph.count('p'))\n",
    "\n",
    "splitted = [x.strip('.').lower() for x in paragraph.split()]\n",
    "print(splitted)\n",
    "print(Counter(splitted).most_common(2))\n",
    "print(len(set(Counter(splitted))))"
   ]
  },
  {
   "cell_type": "code",
   "execution_count": 279,
   "id": "74e56f2b",
   "metadata": {},
   "outputs": [
    {
     "name": "stdout",
     "output_type": "stream",
     "text": [
      "[[0. 0. 0.]\n",
      " [0. 0. 0.]]\n",
      "[[1. 1. 1.]\n",
      " [1. 1. 1.]\n",
      " [1. 1. 1.]]\n",
      "[0 1 2 3 4 5 6 7 8 9]\n",
      "[0.   0.25 0.5  0.75 1.  ]\n",
      "[[1. 0. 0.]\n",
      " [0. 1. 0.]\n",
      " [0. 0. 1.]]\n"
     ]
    }
   ],
   "source": [
    "import numpy as np\n",
    "\n",
    "print(np.zeros((2,3)))      # 2x3 of zeros\n",
    "print(np.ones((3,3)))       # 3x3 of ones\n",
    "print(np.arange(0, 10))  # [0, 2, 4, 6, 8]\n",
    "print(np.linspace(0, 1, 5)) # 5 numbers evenly spaced between 0 and 1\n",
    "print(np.eye(3))            # 3x3 identity matrix\n"
   ]
  },
  {
   "cell_type": "code",
   "execution_count": 286,
   "id": "06443a9c",
   "metadata": {},
   "outputs": [
    {
     "name": "stdout",
     "output_type": "stream",
     "text": [
      "Shape: (5, 3)\n",
      "Dimensions: 2\n",
      "Average per student: [85.         86.66666667 82.33333333 88.33333333 84.33333333]\n",
      "Average per subject: [82.6 88.2 85.2]\n",
      "Highest score: 95\n",
      "With bonus: [[ 85  97  78]\n",
      " [ 88  84  93]\n",
      " [ 72 100  80]\n",
      " [ 91  90  89]\n",
      " [ 77  95  86]]\n",
      "Std dev of all scores: 7.607014306984486\n"
     ]
    }
   ],
   "source": [
    "import numpy as np\n",
    "\n",
    "scores = np.array([\n",
    "    [85, 92, 78],   # Alice\n",
    "    [88, 79, 93],   # Bob\n",
    "    [72, 95, 80],   # Carol\n",
    "    [91, 85, 89],   # Dave\n",
    "    [77, 90, 86]    # Eve\n",
    "])\n",
    "\n",
    "print(\"Shape:\", scores.shape)\n",
    "print(\"Dimensions:\", scores.ndim)\n",
    "\n",
    "print(\"Average per student:\", np.mean(scores, axis=1))\n",
    "print(\"Average per subject:\", np.mean(scores, axis=0))\n",
    "\n",
    "print(\"Highest score:\", np.max(scores))\n",
    "\n",
    "scores[:,1] += 5  # bonus to Science\n",
    "print(\"With bonus:\", scores)\n",
    "\n",
    "print(\"Std dev of all scores:\", np.std(scores))\n"
   ]
  },
  {
   "cell_type": "code",
   "execution_count": null,
   "id": "96cbd17e",
   "metadata": {},
   "outputs": [],
   "source": []
  }
 ],
 "metadata": {
  "kernelspec": {
   "display_name": "Python 3",
   "language": "python",
   "name": "python3"
  },
  "language_info": {
   "codemirror_mode": {
    "name": "ipython",
    "version": 3
   },
   "file_extension": ".py",
   "mimetype": "text/x-python",
   "name": "python",
   "nbconvert_exporter": "python",
   "pygments_lexer": "ipython3",
   "version": "3.13.7"
  }
 },
 "nbformat": 4,
 "nbformat_minor": 5
}
