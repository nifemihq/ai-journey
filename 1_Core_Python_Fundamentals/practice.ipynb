{
 "cells": [
  {
   "cell_type": "code",
   "execution_count": 51,
   "id": "2ea93bde",
   "metadata": {},
   "outputs": [
    {
     "name": "stdout",
     "output_type": "stream",
     "text": [
      "Discount applied!\n"
     ]
    }
   ],
   "source": [
    "price = 3.4\n",
    "quantity = 30\n",
    "discount_code = 'SAVE10'\n",
    "\n",
    "total_cost = price * quantity\n",
    "\n",
    "if total_cost > 100 and discount_code:\n",
    "      print('Discount applied!')\n",
    "else:\n",
    "      print('No discount')"
   ]
  },
  {
   "cell_type": "code",
   "execution_count": 52,
   "id": "02c9f511",
   "metadata": {},
   "outputs": [
    {
     "name": "stdout",
     "output_type": "stream",
     "text": [
      "Total value: 650,  Total cost: 3.\n"
     ]
    }
   ],
   "source": [
    "orders = [250, 100, -40, 300, 0, 120]\n",
    "valid_orders = 0\n",
    "total_value = 0\n",
    "\n",
    "for order in orders:\n",
    "      if order < 0:\n",
    "            continue\n",
    "      elif order == 0:\n",
    "            break\n",
    "      elif order > 0:\n",
    "            valid_orders += 1\n",
    "            total_value += order\n",
    "\n",
    "print(f'Total value: {total_value},  Total cost: {valid_orders}.')"
   ]
  },
  {
   "cell_type": "code",
   "execution_count": 53,
   "id": "09cae635",
   "metadata": {},
   "outputs": [
    {
     "name": "stdout",
     "output_type": "stream",
     "text": [
      "Total value: 650,  Total cost: 3.\n"
     ]
    }
   ],
   "source": [
    "orders = [250, 100, -40, 300, 0, 120]\n",
    "valid_orders = 0\n",
    "total_value = 0\n",
    "i = 0\n",
    "\n",
    "while i < len(orders):\n",
    "      if orders[i] < 0:\n",
    "            i += 1\n",
    "            continue\n",
    "      elif orders[i] == 0:\n",
    "            break\n",
    "      else:\n",
    "            valid_orders += 1\n",
    "            total_value += orders[i]\n",
    "      i += 1\n",
    "\n",
    "print(f'Total value: {total_value},  Total cost: {valid_orders}.')"
   ]
  },
  {
   "cell_type": "code",
   "execution_count": 54,
   "id": "6c806426",
   "metadata": {},
   "outputs": [
    {
     "name": "stdout",
     "output_type": "stream",
     "text": [
      "['alice@example.com', 'bob@example.com', 'carol@example.com', 'bob@example.com', 'dan@example.com']\n",
      "{'dan@example.com', 'alice@example.com', 'carol@example.com', 'bob@example.com'}\n",
      "['alice@example.com', 'bob@example.com', 'carol@example.com', 'dan@example.com']\n"
     ]
    }
   ],
   "source": [
    "# You need to produce a cleaned list where:\n",
    "# Emails are lowercased.\n",
    "# Leading/trailing spaces are removed.\n",
    "# Empty strings and None values are removed entirely.\n",
    "# No duplicates (hint: order should be preserved).\n",
    "\n",
    "raw_emails = [\n",
    "    \" alice@example.com  \", \n",
    "    \"BOB@EXAMPLE.COM\", \n",
    "    \"\", \n",
    "    \"carol@example.com\", \n",
    "    \"BOB@EXAMPLE.COM\", \n",
    "    None, \n",
    "    \"dan@EXAMPLE.com   \"\n",
    "]\n",
    "\n",
    "cleaned_emails = [email.strip().lower() for email in raw_emails if email]\n",
    "print(cleaned_emails)\n",
    "cleaned_emails = set([email.strip().lower() for email in raw_emails if email])\n",
    "print(cleaned_emails)\n",
    "cleaned_emails = list(dict.fromkeys(email.strip().lower() for email in raw_emails if email))\n",
    "print(cleaned_emails)"
   ]
  },
  {
   "cell_type": "code",
   "execution_count": 55,
   "id": "17e22f6a",
   "metadata": {},
   "outputs": [
    {
     "data": {
      "text/plain": [
       "['alice@example.com',\n",
       " 'bob@example.com',\n",
       " 'carol@example.com',\n",
       " 'bob@example.com',\n",
       " 'dan@example.com']"
      ]
     },
     "execution_count": 55,
     "metadata": {},
     "output_type": "execute_result"
    }
   ],
   "source": [
    "# write clean_emails() so:\n",
    "# It strips, lowercases, removes falsy values (\"\", None).\n",
    "# If unique=True, preserves first occurrence only.\n",
    "# If unique=False, allows duplicates.\n",
    "# Returns the list.\n",
    "\n",
    "def clean_emails(raw_emails, unique=True):\n",
    "    if unique:\n",
    "          cleaned = list(dict.fromkeys(email.strip().lower() for email in raw_emails if email))\n",
    "          return cleaned\n",
    "    else:\n",
    "          cleaned = [email.strip().lower() for email in raw_emails if email]\n",
    "          return cleaned\n",
    "clean_emails(raw_emails, False)\n"
   ]
  },
  {
   "cell_type": "code",
   "execution_count": 56,
   "id": "a6540be9",
   "metadata": {},
   "outputs": [
    {
     "data": {
      "text/plain": [
       "['alice@example.com',\n",
       " 'bob@example.com',\n",
       " 'carol@example.com',\n",
       " 'dan@example.com']"
      ]
     },
     "execution_count": 56,
     "metadata": {},
     "output_type": "execute_result"
    }
   ],
   "source": [
    "# BETTER\n",
    "\n",
    "def clean_emails(raw_emails, unique=True):\n",
    "    cleaned = [email.strip().lower() for email in raw_emails if email]\n",
    "    if unique:\n",
    "        cleaned = list(dict.fromkeys(cleaned))\n",
    "    return cleaned\n",
    "clean_emails(raw_emails)"
   ]
  },
  {
   "cell_type": "code",
   "execution_count": 57,
   "id": "913b1b84",
   "metadata": {},
   "outputs": [
    {
     "name": "stdout",
     "output_type": "stream",
     "text": [
      "5\n",
      "Average rating: 7.2\n",
      "All ratings are at least 5? True\n",
      "Any perfect 10? True\n"
     ]
    }
   ],
   "source": [
    "ratings = [6, 8, 10, 7, 5]\n",
    "print(len(ratings))\n",
    "\n",
    "print(f'Average rating: {sum(ratings)/len(ratings)}')\n",
    "print(f'All ratings are at least 5? {all(i >= 5 for i in ratings)}')\n",
    "print(f'Any perfect 10? {any(i == 10 for i in ratings)}')"
   ]
  },
  {
   "cell_type": "code",
   "execution_count": 58,
   "id": "561250b7",
   "metadata": {},
   "outputs": [
    {
     "name": "stdout",
     "output_type": "stream",
     "text": [
      "[('John', 2500), ('Mary', 1800), ('Luke', 3200), ('Sophia', 1500), ('Peter', 2800)]\n",
      "[('John', 2500), ('Luke', 3200), ('Peter', 2800)]\n",
      "[('John', 'Silver'), ('Luke', 'Gold'), ('Peter', 'Silver')]\n",
      "No  Name  Sales  Tier\n",
      "1   John   2500\n",
      "2   Luke   3200\n",
      "3   Peter  2800\n"
     ]
    }
   ],
   "source": [
    "employees = [\"John\", \"Mary\", \"Luke\", \"Sophia\", \"Peter\"]\n",
    "sales = [2500, 1800, 3200, 1500, 2800]\n",
    "\n",
    "employee_sales_pair = list(zip(employees, sales))\n",
    "print(employee_sales_pair)\n",
    "\n",
    "# Remove any employees whose sales are below 2000.\n",
    "less_2k = list(filter(lambda pair: pair[1] >= 2000, employee_sales_pair))\n",
    "print(less_2k)\n",
    "\n",
    "def tier(sale):\n",
    "      if sale >= 3000:\n",
    "            return 'Gold'\n",
    "      if sale >= 2500:\n",
    "            return 'Silver'\n",
    "      if sale >= 2000:\n",
    "            return 'Bronze'\n",
    "\n",
    "# assign a performance tier based on sales\n",
    "tiered = list(map(lambda pair: (pair[0], tier(pair[1])), less_2k))\n",
    "print(tiered)\n",
    "\n",
    "# Produce a numbered report table\n",
    "print('No  Name  Sales  Tier')\n",
    "\n",
    "for index, (name, sale) in enumerate(less_2k, start=1):\n",
    "      print(f'{index:<3} {name:<6} {sale}')"
   ]
  },
  {
   "cell_type": "code",
   "execution_count": 59,
   "id": "e298ed2b",
   "metadata": {},
   "outputs": [
    {
     "name": "stdout",
     "output_type": "stream",
     "text": [
      "[('Alice', 'A'), ('Carol', 'A'), ('Dave', 'C')]\n",
      "No  Name    Grade\n",
      "1   Alice  A\n",
      "2   Carol  A\n",
      "3   Dave   C\n"
     ]
    }
   ],
   "source": [
    "students = [\"Alice\", \"Bob\", \"Carol\", \"Dave\"]\n",
    "scores   = [85, 42, 90, 68]\n",
    "\n",
    "def to_grade(s):\n",
    "    if s >= 80: return \"A\"\n",
    "    if s >= 70: return \"B\"\n",
    "    if s >= 50: return \"C\"\n",
    "\n",
    "rows = list(\n",
    "    map(\n",
    "        lambda pair: (pair[0], to_grade(pair[1])),\n",
    "        filter(lambda pair: pair[1] >= 50, zip(students, scores))\n",
    "    )\n",
    ")\n",
    "print(rows)\n",
    "\n",
    "print(\"No  Name    Grade\")\n",
    "for i, (name, grade) in enumerate(rows, start=1):\n",
    "    print(f\"{i:<3} {name:<6} {grade}\")\n"
   ]
  },
  {
   "cell_type": "code",
   "execution_count": 60,
   "id": "60b0a9a5",
   "metadata": {},
   "outputs": [
    {
     "name": "stdout",
     "output_type": "stream",
     "text": [
      "[96000, 150000, 24000, 105000, 60000, 12000]\n",
      "[('Laptop', 96000), ('Phone', 150000), ('Tablet', 24000), ('Camera', 105000), ('Headphones', 60000), ('Monitor', 12000)]\n",
      "[('Laptop', 96000), ('Phone', 150000), ('Camera', 105000), ('Headphones', 60000)]\n",
      "[('Laptop', 96000, 'Gold'), ('Phone', 150000, 'Platinum'), ('Camera', 105000, 'Platinum'), ('Headphones', 60000, 'Gold')]\n",
      "No    Product      Revenue    Rank\n",
      "1     Laptop       96000      Gold\n",
      "2     Phone        150000     Platinum\n",
      "3     Camera       105000     Platinum\n",
      "4     Headphones   60000      Gold\n",
      "Something [('Laptop', 120, 800), ('Phone', 300, 500), ('Tablet', 80, 300), ('Camera', 150, 700), ('Headphones', 400, 150), ('Monitor', 60, 200)]\n"
     ]
    }
   ],
   "source": [
    "products = [\"Laptop\", \"Phone\", \"Tablet\", \"Camera\", \"Headphones\", \"Monitor\"]\n",
    "units_sold = [120, 300, 80, 150, 400, 60]\n",
    "unit_price = [800, 500, 300, 700, 150, 200]\n",
    "\n",
    "total_rev = [s*p for s,p in list(zip(units_sold, unit_price))]\n",
    "print(total_rev)\n",
    "\n",
    "products_rev = [(a,b) for a,b in zip(products, total_rev)]\n",
    "print(products_rev)\n",
    "\n",
    "# Remove any products with revenue below 50,000.\n",
    "# less_50k = list(filter(lambda pair:pair[1]>=50000, products_rev))\n",
    "less_50k = [x for x in products_rev if x[1] >= 50000]\n",
    "print(less_50k)\n",
    "\n",
    "def ranking(price):\n",
    "      if price >= 100000:\n",
    "            return 'Platinum'\n",
    "      if price >= 50000:\n",
    "            return 'Gold'\n",
    "      if price >= 25000:\n",
    "            return 'Silver'\n",
    "      if price >= 10000:\n",
    "            return 'Bronze'\n",
    "      \n",
    "rows = [(product, revenue, ranking(revenue)) for product, revenue in less_50k]\n",
    "print(rows)\n",
    "\n",
    "print('No    Product      Revenue    Rank')\n",
    "\n",
    "for i, (product, revenue, rank) in enumerate(rows, start=1):\n",
    "      print(f'{i:<6}{product:<13}{revenue:<11}{rank}')\n",
    "      \n",
    "print(f'Something {list(zip(products, units_sold, unit_price))}')"
   ]
  },
  {
   "cell_type": "code",
   "execution_count": 61,
   "id": "672f3b71",
   "metadata": {},
   "outputs": [
    {
     "name": "stdout",
     "output_type": "stream",
     "text": [
      "21\n",
      "['apple', 'banana', 'cherry', 'date']\n"
     ]
    }
   ],
   "source": [
    "lst = [1,2,3,4,5,6]\n",
    "tpp = tuple(lst)\n",
    "print(sum(lst))\n",
    "\n",
    "fruits = [\"apple\", \"banana\", \"cherry\"]\n",
    "fruits.append(\"date\")\n",
    "print(fruits)  # ['apple', 'banana', 'cherry', 'date']\n"
   ]
  },
  {
   "cell_type": "code",
   "execution_count": 62,
   "id": "97f9f5f6",
   "metadata": {},
   "outputs": [
    {
     "name": "stdout",
     "output_type": "stream",
     "text": [
      "[1, 2, 3, 4, 9, 8, 7, 6, 5]\n"
     ]
    }
   ],
   "source": [
    "i = [1,2,3,4]\n",
    "j = (9,8,7,6,5)\n",
    "\n",
    "i.extend(j)\n",
    "\n",
    "print(i)"
   ]
  },
  {
   "cell_type": "code",
   "execution_count": 63,
   "id": "768fa42c",
   "metadata": {},
   "outputs": [
    {
     "name": "stdout",
     "output_type": "stream",
     "text": [
      "[1, 2, 3, 4, 9, 8, 7, 6, 5]\n"
     ]
    }
   ],
   "source": [
    "print(i)"
   ]
  },
  {
   "cell_type": "code",
   "execution_count": 64,
   "id": "cde4abc6",
   "metadata": {},
   "outputs": [
    {
     "name": "stdout",
     "output_type": "stream",
     "text": [
      "['apple', 'banana', 'cherry', 'date']\n",
      "['apple', 'kiwi', 'banana', 'cherry', 'date']\n",
      "['apple', 'kiwi', 'cherry', 'date']\n",
      "['apple', 'kiwi', 'cherry', 'date', 'mango', 'pear']\n",
      "['apple', 'cherry', 'date', 'kiwi', 'mango', 'pear']\n",
      "1\n"
     ]
    }
   ],
   "source": [
    "inventory = [\"apple\", \"banana\", \"cherry\"]\n",
    "\n",
    "inventory.append('date')\n",
    "print(inventory)\n",
    "inventory.insert(1, 'kiwi')\n",
    "print(inventory)\n",
    "inventory.remove('banana')\n",
    "print(inventory)\n",
    "inventory.extend(['mango', 'pear'])\n",
    "print(inventory)\n",
    "inventory.sort()\n",
    "print(inventory)\n",
    "\n",
    "print(inventory.count('mango'))"
   ]
  },
  {
   "cell_type": "code",
   "execution_count": 65,
   "id": "96a86e76",
   "metadata": {},
   "outputs": [
    {
     "name": "stdout",
     "output_type": "stream",
     "text": [
      "[('Inception', 8.8, 2010), ('The Matrix', 8.7, 1999), ('The Prestige', 8.7, 2006), ('Interstellar', 8.6, 2014), ('Memento', 8.4, 2000)]\n",
      "[('The Matrix', 8.7, 1999), ('Memento', 8.4, 2000), ('The Prestige', 8.7, 2006), ('Inception', 8.8, 2010), ('Interstellar', 8.6, 2014)]\n",
      "[('Memento', 8.4, 2000), ('Inception', 8.8, 2010), ('The Matrix', 8.7, 1999), ('The Prestige', 8.7, 2006), ('Interstellar', 8.6, 2014)]\n",
      "[('The Prestige', 8.7, 2006), ('Inception', 8.8, 2010), ('Memento', 8.4, 2000), ('Interstellar', 8.6, 2014), ('The Matrix', 8.7, 1999)]\n",
      "[('Inception', 8.8, 2010), ('The Prestige', 8.7, 2006), ('The Matrix', 8.7, 1999), ('Interstellar', 8.6, 2014), ('Memento', 8.4, 2000)]\n",
      "[('Inception', 8.8, 2010), ('The Matrix', 8.7, 1999), ('The Prestige', 8.7, 2006), ('Interstellar', 8.6, 2014), ('Memento', 8.4, 2000)]\n",
      "('Inception', 8.8, 2010) -> (-8.8, 'Inception')\n",
      "('The Matrix', 8.7, 1999) -> (-8.7, 'The Matrix')\n",
      "('The Prestige', 8.7, 2006) -> (-8.7, 'The Prestige')\n",
      "('Interstellar', 8.6, 2014) -> (-8.6, 'Interstellar')\n",
      "('Memento', 8.4, 2000) -> (-8.4, 'Memento')\n"
     ]
    }
   ],
   "source": [
    "movies = [\n",
    "    (\"Inception\", 8.8, 2010),\n",
    "    (\"The Matrix\", 8.7, 1999),\n",
    "    (\"Interstellar\", 8.6, 2014),\n",
    "    (\"The Prestige\", 8.7, 2006),\n",
    "    (\"Memento\", 8.4, 2000)\n",
    "]\n",
    "\n",
    "movies.sort(key=lambda x:x[1], reverse=True)\n",
    "print(movies)\n",
    "\n",
    "movies.sort(key=lambda x:x[2])\n",
    "print(movies)\n",
    "\n",
    "movies.sort(key=lambda x:len(x[0]))\n",
    "print(movies)\n",
    "\n",
    "movies.sort(key=lambda x:x[0][-1])\n",
    "print(movies)\n",
    "\n",
    "movies.sort(key=lambda x:x[1], reverse=True)\n",
    "print(movies)\n",
    "\n",
    "movies.sort(key=lambda x: (-x[1], x[0]))\n",
    "print(movies)\n",
    "\n",
    "for m in movies:\n",
    "    print(m, \"->\", (-m[1], m[0]))\n",
    "\n"
   ]
  },
  {
   "cell_type": "code",
   "execution_count": 84,
   "id": "551db71d",
   "metadata": {},
   "outputs": [
    {
     "name": "stdout",
     "output_type": "stream",
     "text": [
      "2\n",
      "2\n",
      "1\n",
      "6\n",
      "[4, 4, 4, 4, 4, 4, 3, 2, 1]\n"
     ]
    }
   ],
   "source": [
    "nums = (1, 2, 3, 2)\n",
    "print(nums.count(2))   # 2\n",
    "print(nums.index(3))   # 2\n",
    "print(nums.index(2))   \n",
    "\n",
    "jj = [1,2,3,4,4,4,4,4,4]\n",
    "print(jj.count(4))\n",
    "jj.reverse()\n",
    "print(jj)"
   ]
  },
  {
   "cell_type": "code",
   "execution_count": 73,
   "id": "456dd151",
   "metadata": {},
   "outputs": [
    {
     "name": "stdout",
     "output_type": "stream",
     "text": [
      "9\n",
      "(7, 9, 3, 7)\n",
      "3\n",
      "1\n"
     ]
    }
   ],
   "source": [
    "points = (3, 7, 9, 3, 7, 3)\n",
    "\n",
    "print(points[2])\n",
    "print(points[1:5])\n",
    "print(points.count(3))\n",
    "print(points.index(7))\n",
    "# points[0] = 10"
   ]
  },
  {
   "cell_type": "code",
   "execution_count": 79,
   "id": "ae2c2089",
   "metadata": {},
   "outputs": [
    {
     "name": "stdout",
     "output_type": "stream",
     "text": [
      "{'Book B', 'Book A', 'Book D'}\n",
      "set()\n",
      "{'Book B', 'Book F', 'Book A', 'Book D'}\n"
     ]
    }
   ],
   "source": [
    "available = {\"Book A\", \"Book B\", \"Book C\", \"Book D\"}\n",
    "borrowed = {\"Book C\", \"Book E\"}\n",
    "\n",
    "available = available - borrowed\n",
    "print(available)\n",
    "print(available & borrowed)\n",
    "available.update({'Book F'})\n",
    "print(available)"
   ]
  },
  {
   "cell_type": "code",
   "execution_count": 85,
   "id": "949c34c5",
   "metadata": {},
   "outputs": [],
   "source": [
    "a_set = set()"
   ]
  },
  {
   "cell_type": "code",
   "execution_count": 101,
   "id": "943c2860",
   "metadata": {},
   "outputs": [
    {
     "name": "stdout",
     "output_type": "stream",
     "text": [
      "dict_items([('a', 1), ('b', 2)])\n",
      "{('a', 1), 4, 5, 6, 7, 8, ('b', 2)}\n"
     ]
    }
   ],
   "source": [
    "dict = {'a':1, 'b':2}\n",
    "st = {4,5,6,7,8}\n",
    "print(dict.items())\n",
    "st.update(dict.items())\n",
    "print(st)"
   ]
  },
  {
   "cell_type": "code",
   "execution_count": 136,
   "id": "f70551d4",
   "metadata": {},
   "outputs": [
    {
     "name": "stdout",
     "output_type": "stream",
     "text": [
      "{'101': {'name': 'Alice', 'age': 20, 'grade': 'A'}, '102': {'name': 'Bob', 'age': 22, 'grade': 'B'}, '103': {'name': 'Carol', 'age': 19, 'grade': 'C'}, '104': {'name': 'Dave', 'age': 21, 'grade': 'B'}}\n",
      "{'101': {'name': 'Alice', 'age': 20, 'grade': 'A'}, '102': {'name': 'Bob', 'age': 22, 'grade': 'B'}, '103': {'name': 'Carol', 'age': 19, 'grade': 'B+'}, '104': {'name': 'Dave', 'age': 21, 'grade': 'B'}}\n",
      "{'102': {'name': 'Bob', 'age': 22, 'grade': 'B'}, '103': {'name': 'Carol', 'age': 19, 'grade': 'B+'}, '104': {'name': 'Dave', 'age': 21, 'grade': 'B'}}\n",
      "[('102', {'name': 'Bob', 'age': 22, 'grade': 'B'}), ('103', {'name': 'Carol', 'age': 19, 'grade': 'B+'}), ('104', {'name': 'Dave', 'age': 21, 'grade': 'B'})]\n"
     ]
    }
   ],
   "source": [
    "students = {\n",
    "    \"101\": {\"name\": \"Alice\", \"age\": 20, \"grade\": \"A\"},\n",
    "    \"102\": {\"name\": \"Bob\", \"age\": 22, \"grade\": \"B\"},\n",
    "    \"103\": {\"name\": \"Carol\", \"age\": 19, \"grade\": \"C\"}\n",
    "}\n",
    "\n",
    "# getting Bob's grades safely\n",
    "students.get('102')['grade']\n",
    "\n",
    "students['104'] = {\"name\": \"Dave\", \"age\": 21, \"grade\": \"B\"}\n",
    "print(students)\n",
    "\n",
    "students['103']['grade'] = 'B+'\n",
    "print(students)\n",
    "\n",
    "students.pop('101')\n",
    "print(students)\n",
    "\n",
    "print(list(students.items()))"
   ]
  },
  {
   "cell_type": "code",
   "execution_count": 169,
   "id": "cf866c60",
   "metadata": {},
   "outputs": [
    {
     "name": "stdout",
     "output_type": "stream",
     "text": [
      "dict_items([('order1', {'customer': 'Alice', 'items': {'apple': 3, 'banana': 2}}), ('order2', {'customer': 'Bob', 'items': {'banana': 5, 'orange': 4}}), ('order3', {'customer': 'Carol', 'items': {'apple': 1, 'pear': 2, 'banana': 1}})])\n",
      "order1 Alice 5\n",
      "order2 Bob 9\n",
      "order3 Carol 4\n",
      "[2, 5, 1]\n",
      "8\n",
      "{'order1': {'customer': 'Alice', 'items': {'apple': 3, 'banana': 2}}, 'order2': {'customer': 'Bob', 'items': {'banana': 5, 'orange': 4}}, 'order3': {'customer': 'Carol', 'items': {'apple': 1, 'pear': 2, 'banana': 1}}, 'order4': {'customer': 'Dave', 'items': {'apple': 2, 'mango': 3}}}\n",
      "{'customer': 'Bob', 'items': {'banana': 5, 'orange': 6}}\n",
      "{'order2': {'customer': 'Bob', 'items': {'banana': 5, 'orange': 6}}, 'order3': {'customer': 'Carol', 'items': {'apple': 1, 'pear': 2, 'banana': 1}}, 'order4': {'customer': 'Dave', 'items': {'apple': 2, 'mango': 3}}}\n",
      "order2 - Bob: 11 items\n",
      "order3 - Carol: 4 items\n",
      "order4 - Dave: 5 items\n"
     ]
    }
   ],
   "source": [
    "orders = {\n",
    "    \"order1\": {\n",
    "        \"customer\": \"Alice\", \n",
    "        \"items\": {\"apple\": 3, \"banana\": 2}\n",
    "        },\n",
    "    \"order2\": {\n",
    "        \"customer\": \"Bob\", \n",
    "        \"items\": {\"banana\": 5, \"orange\": 4}\n",
    "        },\n",
    "    \"order3\": {\n",
    "        \"customer\": \"Carol\", \n",
    "        \"items\": {\"apple\": 1, \"pear\": 2, \"banana\": 1}\n",
    "        }\n",
    "}\n",
    "\n",
    "# Print out each order with the customer name and total number of items ordered.\n",
    "print(orders.items())\n",
    "for ord, info in orders.items():\n",
    "      print(ord, info['customer'], sum(info['items'].values()))\n",
    "\n",
    "# Find the total quantity of bananas ordered across all orders.\n",
    "banana_count_per_order = [info['items']['banana'] for _, info in orders.items()]\n",
    "print(banana_count_per_order)\n",
    "print(sum(banana_count_per_order))\n",
    "\n",
    "# Add a new order \"order4\" for \"Dave\" with {\"apple\": 2, \"mango\": 3}.\n",
    "orders['order4'] = {'customer':'Dave', 'items':{\"apple\": 2, \"mango\": 3}}\n",
    "print(orders)\n",
    "\n",
    "# Update \"order2\" so that Bob’s orange count becomes 6.\n",
    "orders['order2']['items']['orange'] = 6\n",
    "print(orders['order2'])\n",
    "\n",
    "# Remove \"order1\" completely from the orders.\n",
    "orders.pop('order1')\n",
    "print(orders)\n",
    "\n",
    "# loop through and print a clean report\n",
    "for ord, info in orders.items():\n",
    "    print(f'{ord} - {info['customer']}: {sum(info['items'].values())} items')"
   ]
  }
 ],
 "metadata": {
  "kernelspec": {
   "display_name": "Python 3",
   "language": "python",
   "name": "python3"
  },
  "language_info": {
   "codemirror_mode": {
    "name": "ipython",
    "version": 3
   },
   "file_extension": ".py",
   "mimetype": "text/x-python",
   "name": "python",
   "nbconvert_exporter": "python",
   "pygments_lexer": "ipython3",
   "version": "3.13.6"
  }
 },
 "nbformat": 4,
 "nbformat_minor": 5
}
