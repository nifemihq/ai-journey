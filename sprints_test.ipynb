{
 "cells": [
  {
   "cell_type": "markdown",
   "id": "41384cdc",
   "metadata": {},
   "source": [
    "# Orders Analysis (Rounded to Whole Numbers)\n",
    "\n",
    "**Columns expected:** `Customer Name`, `Order Date`, `Order Amount`, `Country`\n",
    "\n",
    "> Tip: If pandas or matplotlib aren't installed on your PC, run:\n",
    "```\n",
    "pip install pandas matplotlib\n",
    "```\n"
   ]
  },
  {
   "cell_type": "code",
   "execution_count": 2,
   "id": "08279cc9",
   "metadata": {},
   "outputs": [
    {
     "data": {
      "text/html": [
       "<div>\n",
       "<style scoped>\n",
       "    .dataframe tbody tr th:only-of-type {\n",
       "        vertical-align: middle;\n",
       "    }\n",
       "\n",
       "    .dataframe tbody tr th {\n",
       "        vertical-align: top;\n",
       "    }\n",
       "\n",
       "    .dataframe thead th {\n",
       "        text-align: right;\n",
       "    }\n",
       "</style>\n",
       "<table border=\"1\" class=\"dataframe\">\n",
       "  <thead>\n",
       "    <tr style=\"text-align: right;\">\n",
       "      <th></th>\n",
       "      <th>Customer Name</th>\n",
       "      <th>Order Date</th>\n",
       "      <th>Order Amount</th>\n",
       "      <th>Country</th>\n",
       "    </tr>\n",
       "  </thead>\n",
       "  <tbody>\n",
       "    <tr>\n",
       "      <th>0</th>\n",
       "      <td>John Doe</td>\n",
       "      <td>2025-01-01</td>\n",
       "      <td>150</td>\n",
       "      <td>USA</td>\n",
       "    </tr>\n",
       "    <tr>\n",
       "      <th>1</th>\n",
       "      <td>Jane Smith</td>\n",
       "      <td>2025-01-02</td>\n",
       "      <td>50</td>\n",
       "      <td>Canada</td>\n",
       "    </tr>\n",
       "    <tr>\n",
       "      <th>2</th>\n",
       "      <td>Alice Johnson</td>\n",
       "      <td>2025-01-03</td>\n",
       "      <td>200</td>\n",
       "      <td>UK</td>\n",
       "    </tr>\n",
       "    <tr>\n",
       "      <th>3</th>\n",
       "      <td>Bob Brown</td>\n",
       "      <td>2025-01-04</td>\n",
       "      <td>120</td>\n",
       "      <td>Germany</td>\n",
       "    </tr>\n",
       "    <tr>\n",
       "      <th>4</th>\n",
       "      <td>Charlie White</td>\n",
       "      <td>2025-01-05</td>\n",
       "      <td>90</td>\n",
       "      <td>France</td>\n",
       "    </tr>\n",
       "  </tbody>\n",
       "</table>\n",
       "</div>"
      ],
      "text/plain": [
       "   Customer Name Order Date  Order Amount  Country\n",
       "0       John Doe 2025-01-01           150      USA\n",
       "1     Jane Smith 2025-01-02            50   Canada\n",
       "2  Alice Johnson 2025-01-03           200       UK\n",
       "3      Bob Brown 2025-01-04           120  Germany\n",
       "4  Charlie White 2025-01-05            90   France"
      ]
     },
     "execution_count": 2,
     "metadata": {},
     "output_type": "execute_result"
    }
   ],
   "source": [
    "import pandas as pd\n",
    "import matplotlib.pyplot as plt\n",
    "\n",
    "# --- Set your CSV path ---\n",
    "# Change this to your local path if different\n",
    "csv_path = r\"Question 3 - Program Application (Public) - Sheet1.csv\"\n",
    "\n",
    "# Load data\n",
    "df = pd.read_csv(csv_path)\n",
    "\n",
    "# Ensure dtypes are correct\n",
    "df[\"Order Date\"] = pd.to_datetime(df[\"Order Date\"], errors=\"coerce\")\n",
    "df[\"Order Amount\"] = pd.to_numeric(df[\"Order Amount\"], errors=\"coerce\")\n",
    "\n",
    "df.head()"
   ]
  },
  {
   "cell_type": "code",
   "execution_count": 3,
   "id": "889c81ef",
   "metadata": {},
   "outputs": [
    {
     "data": {
      "text/plain": [
       "890"
      ]
     },
     "execution_count": 3,
     "metadata": {},
     "output_type": "execute_result"
    }
   ],
   "source": [
    "# 1) Total order value for \"John Doe\" (only orders > $100)\n",
    "john_over_100 = df[(df[\"Customer Name\"] == \"John Doe\") & (df[\"Order Amount\"] > 100)]\n",
    "total_john_over_100 = int(round(john_over_100[\"Order Amount\"].sum()))\n",
    "total_john_over_100"
   ]
  },
  {
   "cell_type": "code",
   "execution_count": 4,
   "id": "9ecb15a3",
   "metadata": {},
   "outputs": [
    {
     "data": {
      "text/plain": [
       "('USA', 4680)"
      ]
     },
     "execution_count": 4,
     "metadata": {},
     "output_type": "execute_result"
    }
   ],
   "source": [
    "# 2) Country with highest total revenue (only orders > $100)\n",
    "over_100 = df[df[\"Order Amount\"] > 100]\n",
    "country_totals_over_100 = over_100.groupby(\"Country\", as_index=False)[\"Order Amount\"].sum()\n",
    "\n",
    "if not country_totals_over_100.empty:\n",
    "    top_row = country_totals_over_100.sort_values(\"Order Amount\", ascending=False).iloc[0]\n",
    "    top_country = top_row[\"Country\"]\n",
    "    top_country_revenue = int(round(float(top_row[\"Order Amount\"])))\n",
    "else:\n",
    "    top_country, top_country_revenue = None, 0\n",
    "\n",
    "top_country, top_country_revenue"
   ]
  },
  {
   "cell_type": "code",
   "execution_count": 5,
   "id": "85b53bd8",
   "metadata": {},
   "outputs": [
    {
     "data": {
      "text/plain": [
       "193"
      ]
     },
     "execution_count": 5,
     "metadata": {},
     "output_type": "execute_result"
    }
   ],
   "source": [
    "# 3) Average order amount across all orders > $100 (rounded to whole number)\n",
    "avg_over_100 = int(round(over_100[\"Order Amount\"].mean())) if not over_100.empty else None\n",
    "avg_over_100"
   ]
  },
  {
   "cell_type": "code",
   "execution_count": 9,
   "id": "69e6c1a8",
   "metadata": {},
   "outputs": [
    {
     "data": {
      "image/png": "[encoded data removed]",
      "text/plain": [
       "<Figure size 640x480 with 1 Axes>"
      ]
     },
     "metadata": {},
     "output_type": "display_data"
    },
    {
     "data": {
      "text/html": [
       "<div>\n",
       "<style scoped>\n",
       "    .dataframe tbody tr th:only-of-type {\n",
       "        vertical-align: middle;\n",
       "    }\n",
       "\n",
       "    .dataframe tbody tr th {\n",
       "        vertical-align: top;\n",
       "    }\n",
       "\n",
       "    .dataframe thead th {\n",
       "        text-align: right;\n",
       "    }\n",
       "</style>\n",
       "<table border=\"1\" class=\"dataframe\">\n",
       "  <thead>\n",
       "    <tr style=\"text-align: right;\">\n",
       "      <th></th>\n",
       "      <th>Country</th>\n",
       "      <th>Order Amount</th>\n",
       "    </tr>\n",
       "  </thead>\n",
       "  <tbody>\n",
       "    <tr>\n",
       "      <th>0</th>\n",
       "      <td>Canada</td>\n",
       "      <td>800</td>\n",
       "    </tr>\n",
       "    <tr>\n",
       "      <th>1</th>\n",
       "      <td>France</td>\n",
       "      <td>445</td>\n",
       "    </tr>\n",
       "    <tr>\n",
       "      <th>2</th>\n",
       "      <td>Germany</td>\n",
       "      <td>3705</td>\n",
       "    </tr>\n",
       "    <tr>\n",
       "      <th>3</th>\n",
       "      <td>UK</td>\n",
       "      <td>2955</td>\n",
       "    </tr>\n",
       "    <tr>\n",
       "      <th>4</th>\n",
       "      <td>USA</td>\n",
       "      <td>5310</td>\n",
       "    </tr>\n",
       "  </tbody>\n",
       "</table>\n",
       "</div>"
      ],
      "text/plain": [
       "   Country  Order Amount\n",
       "0   Canada           800\n",
       "1   France           445\n",
       "2  Germany          3705\n",
       "3       UK          2955\n",
       "4      USA          5310"
      ]
     },
     "execution_count": 9,
     "metadata": {},
     "output_type": "execute_result"
    }
   ],
   "source": [
    "# 4) Bar chart: total revenue by country (only orders > $50)\n",
    "over_50 = df[df[\"Order Amount\"] > 50]\n",
    "countyr_rev_over50 = over_50.groupby(\"Country\", as_index=False)[\"Order Amount\"].sum()\n",
    "\n",
    "# Plot (single plot, default colors)\n",
    "plt.figure()\n",
    "plt.bar(countyr_rev_over50[\"Country\"], countyr_rev_over50[\"Order Amount\"])\n",
    "plt.xlabel(\"Country\")\n",
    "plt.ylabel(\"Total revenue for orders > $50\")\n",
    "plt.title(\"Total country revenue for orders > $50\")\n",
    "plt.xticks(rotation=45, ha=\"right\")\n",
    "plt.tight_layout()\n",
    "plt.show()\n",
    "\n",
    "countyr_rev_over50"
   ]
  }
 ],
 "metadata": {
  "kernelspec": {
   "display_name": "Python 3",
   "language": "python",
   "name": "python3"
  },
  "language_info": {
   "codemirror_mode": {
    "name": "ipython",
    "version": 3
   },
   "file_extension": ".py",
   "mimetype": "text/x-python",
   "name": "python",
   "nbconvert_exporter": "python",
   "pygments_lexer": "ipython3",
   "version": "3.13.6"
  }
 },
 "nbformat": 4,
 "nbformat_minor": 5
}
