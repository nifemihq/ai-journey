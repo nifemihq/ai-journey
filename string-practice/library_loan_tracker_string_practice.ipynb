{
 "cells": [
  {
   "cell_type": "markdown",
   "id": "15e999ed",
   "metadata": {},
   "source": [
    "## Library Loan Tracker — String Practice Challenge"
   ]
  },
  {
   "cell_type": "markdown",
   "id": "b46378f8",
   "metadata": {},
   "source": [
    "*Question by ChatGPT:*"
   ]
  },
  {
   "cell_type": "markdown",
   "id": "05b71579",
   "metadata": {},
   "source": [
    "### Library Loan Tracker – String Methods Practice\n",
    "\n",
    "You are given a messy string containing records of books borrowed from a library. Each record includes the borrower's name, the book title, the genre, and the date borrowed.\n",
    "\n",
    "* Records are separated by commas (`,`)\n",
    "* Fields within each record are separated by `#:#`\n",
    "* Some fields contain extra spaces, inconsistent casing, and combined genres (e.g., `Sci-Fi&Fantasy`)\n",
    "\n",
    "#### Tasks:\n",
    "\n",
    "1. **Clean and split the data**\n",
    "\n",
    "   * Replace `#:#` with `|`\n",
    "   * Split the data by commas into records\n",
    "   * Split each record into `[name, title, genre, date]`\n",
    "   * Strip whitespace from each field\n",
    "\n",
    "2. **Standardize formats**\n",
    "\n",
    "   * Convert names and titles to title case\n",
    "   * Convert genres to lowercase\n",
    "   * Leave the date unchanged\n",
    "\n",
    "3. **Extract and count genres**\n",
    "\n",
    "   * Split compound genres using `&`\n",
    "   * Build a flat list of genres\n",
    "   * Count occurrences of each genre\n",
    "   * Print a summary in one sentence:\n",
    "\n",
    "     ```\n",
    "     Borrowed books by genre: 3 non-fiction, 2 fiction, ...\n",
    "     ```\n",
    "\n",
    "4. **(Bonus) Print each borrow log**\n",
    "\n",
    "   * Format as:\n",
    "\n",
    "     ```\n",
    "     Janet Adebayo borrowed \"The Fire Next Time\" (non-fiction) on 12/07/25.\n",
    "     ```"
   ]
  },
  {
   "cell_type": "code",
   "execution_count": 18,
   "id": "b27ef422",
   "metadata": {},
   "outputs": [
    {
     "name": "stdout",
     "output_type": "stream",
     "text": [
      "\n",
      "This is the raw data: \n",
      "\n",
      "  janet adebayo #:#   the fire next time #:# non-fiction #:# 12/07/25  ,  OBINNA CHUKWU #:# purple hibiscus #:# fiction #:# 12/07/25 , aisha Bello#:# Children of Blood and Bone #:# Fantasy&Sci-Fi #:# 12/07/25,   thomas okon#:#deep work#:#non-fiction #:#12/07/25, MARYAM TAIWO#:#Think and Grow Rich#:#self-help #:#12/07/25 ,Tunde Cole #:#dune #:#Sci-Fi&Fantasy #:#12/07/25,  chioma Nwafor#:# Becoming #:#non-fiction #:# 12/07/25\n",
      "\n",
      "\n",
      "      \n",
      "[['janet adebayo', 'the fire next time', 'non-fiction', '12/07/25'], ['OBINNA CHUKWU', 'purple hibiscus', 'fiction', '12/07/25'], ['aisha Bello', 'Children of Blood and Bone', 'Fantasy&Sci-Fi', '12/07/25'], ['thomas okon', 'deep work', 'non-fiction', '12/07/25'], ['MARYAM TAIWO', 'Think and Grow Rich', 'self-help', '12/07/25'], ['Tunde Cole', 'dune', 'Sci-Fi&Fantasy', '12/07/25'], ['chioma Nwafor', 'Becoming', 'non-fiction', '12/07/25']]\n"
     ]
    }
   ],
   "source": [
    "library_data = \"  janet adebayo #:#   the fire next time #:# non-fiction #:# 12/07/25  ,  OBINNA CHUKWU #:# purple hibiscus #:# fiction #:# 12/07/25 , aisha Bello#:# Children of Blood and Bone #:# Fantasy&Sci-Fi #:# 12/07/25,   thomas okon#:#deep work#:#non-fiction #:#12/07/25, MARYAM TAIWO#:#Think and Grow Rich#:#self-help #:#12/07/25 ,Tunde Cole #:#dune #:#Sci-Fi&Fantasy #:#12/07/25,  chioma Nwafor#:# Becoming #:#non-fiction #:# 12/07/25\"\n",
    "\n",
    "print(f\"\"\"\n",
    "This is the raw data: \n",
    "\n",
    "{library_data}\"\"\")\n",
    "\n",
    "print(\"\"\"\n",
    "      \n",
    "      \"\"\")\n",
    "\n",
    "replaced = library_data.replace(\"#:#\", \"|\")\n",
    "\n",
    "splitted = replaced.split(',')\n",
    "\n",
    "stripped = []\n",
    "for record in splitted:\n",
    "      a_record = record.strip(' ')\n",
    "      stripped.append(a_record)\n",
    "\n",
    "record_commas = []\n",
    "for i in stripped:\n",
    "      newt = i.replace('|', ',')\n",
    "      record_commas.append(newt)\n",
    "\n",
    "dataa = []\n",
    "for i in record_commas:\n",
    "      item = i.split(',')\n",
    "      dataa.append(item)\n",
    "\n",
    "cleaner = []\n",
    "for i in dataa:\n",
    "      jj = []\n",
    "      for x in i:\n",
    "            elem = x.strip()\n",
    "            jj.append(elem)\n",
    "      cleaner.append(jj)\n",
    "print(cleaner)"
   ]
  },
  {
   "cell_type": "markdown",
   "id": "902f7dcc",
   "metadata": {},
   "source": [
    "### A better way to do this 👆"
   ]
  },
  {
   "cell_type": "code",
   "execution_count": 22,
   "id": "cccfb9c7",
   "metadata": {},
   "outputs": [
    {
     "name": "stdout",
     "output_type": "stream",
     "text": [
      "['  janet adebayo |   the fire next time | non-fiction | 12/07/25  ', '  OBINNA CHUKWU | purple hibiscus | fiction | 12/07/25 ', ' aisha Bello| Children of Blood and Bone | Fantasy&Sci-Fi | 12/07/25', '   thomas okon|deep work|non-fiction |12/07/25', ' MARYAM TAIWO|Think and Grow Rich|self-help |12/07/25 ', 'Tunde Cole |dune |Sci-Fi&Fantasy |12/07/25', '  chioma Nwafor| Becoming |non-fiction | 12/07/25']\n",
      "[['janet adebayo', 'the fire next time', 'non-fiction', '12/07/25'], ['OBINNA CHUKWU', 'purple hibiscus', 'fiction', '12/07/25'], ['aisha Bello', 'Children of Blood and Bone', 'Fantasy&Sci-Fi', '12/07/25'], ['thomas okon', 'deep work', 'non-fiction', '12/07/25'], ['MARYAM TAIWO', 'Think and Grow Rich', 'self-help', '12/07/25'], ['Tunde Cole', 'dune', 'Sci-Fi&Fantasy', '12/07/25'], ['chioma Nwafor', 'Becoming', 'non-fiction', '12/07/25']]\n"
     ]
    }
   ],
   "source": [
    "rep_split = library_data.replace('#:#', '|').split(',')\n",
    "print(rep_split)\n",
    "\n",
    "cleaner = [[x.strip() for x in i.split('|')] for i in rep_split]\n",
    "print(cleaner)"
   ]
  },
  {
   "cell_type": "code",
   "execution_count": null,
   "id": "16a9d2c6",
   "metadata": {},
   "outputs": [],
   "source": []
  }
 ],
 "metadata": {
  "kernelspec": {
   "display_name": "Python 3",
   "language": "python",
   "name": "python3"
  },
  "language_info": {
   "codemirror_mode": {
    "name": "ipython",
    "version": 3
   },
   "file_extension": ".py",
   "mimetype": "text/x-python",
   "name": "python",
   "nbconvert_exporter": "python",
   "pygments_lexer": "ipython3",
   "version": "3.13.5"
  }
 },
 "nbformat": 4,
 "nbformat_minor": 5
}
